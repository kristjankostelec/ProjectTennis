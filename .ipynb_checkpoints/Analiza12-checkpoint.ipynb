{
 "cells": [
  {
   "cell_type": "markdown",
   "metadata": {},
   "source": [
    "TO JE KOMENTAR CELOTNE NALOGE:\n",
    "    prvi del\n",
    "    drugi del \n",
    "    in tako dalje"
   ]
  },
  {
   "cell_type": "code",
   "execution_count": 2,
   "metadata": {},
   "outputs": [],
   "source": [
    "import pandas as pd\n",
    "\n",
    "import matplotlib\n",
    "\n",
    "#izrisujemo rezultate\n",
    "%matplotlib inline \n",
    "\n",
    "import numpy as np\n",
    "import math\n",
    "\n",
    "from matplotlib import pyplot as plot"
   ]
  },
  {
   "cell_type": "code",
   "execution_count": 3,
   "metadata": {},
   "outputs": [
    {
     "data": {
      "text/html": [
       "<div>\n",
       "<style>\n",
       "    .dataframe thead tr:only-child th {\n",
       "        text-align: right;\n",
       "    }\n",
       "\n",
       "    .dataframe thead th {\n",
       "        text-align: left;\n",
       "    }\n",
       "\n",
       "    .dataframe tbody tr th {\n",
       "        vertical-align: top;\n",
       "    }\n",
       "</style>\n",
       "<table border=\"1\" class=\"dataframe\">\n",
       "  <thead>\n",
       "    <tr style=\"text-align: right;\">\n",
       "      <th></th>\n",
       "      <th>Rank</th>\n",
       "      <th>Country</th>\n",
       "      <th>Age</th>\n",
       "      <th>Birthday</th>\n",
       "      <th>Weight</th>\n",
       "      <th>Height</th>\n",
       "      <th>WL_17</th>\n",
       "      <th>T17</th>\n",
       "      <th>Earn17</th>\n",
       "      <th>Career_high</th>\n",
       "      <th>WL_career</th>\n",
       "      <th>T_career</th>\n",
       "      <th>Earn_career</th>\n",
       "    </tr>\n",
       "  </thead>\n",
       "  <tbody>\n",
       "    <tr>\n",
       "      <th>RafaelNadal</th>\n",
       "      <td>1</td>\n",
       "      <td>ESP</td>\n",
       "      <td>31</td>\n",
       "      <td>1986-06-03</td>\n",
       "      <td>85.0</td>\n",
       "      <td>185.0</td>\n",
       "      <td>67-11</td>\n",
       "      <td>6</td>\n",
       "      <td>15851340</td>\n",
       "      <td>1</td>\n",
       "      <td>873-185</td>\n",
       "      <td>75</td>\n",
       "      <td>94588627</td>\n",
       "    </tr>\n",
       "    <tr>\n",
       "      <th>RogerFederer</th>\n",
       "      <td>2</td>\n",
       "      <td>SUI</td>\n",
       "      <td>36</td>\n",
       "      <td>1981-08-08</td>\n",
       "      <td>85.0</td>\n",
       "      <td>185.0</td>\n",
       "      <td>52-5</td>\n",
       "      <td>7</td>\n",
       "      <td>13054856</td>\n",
       "      <td>1</td>\n",
       "      <td>1132-250</td>\n",
       "      <td>95</td>\n",
       "      <td>111885682</td>\n",
       "    </tr>\n",
       "    <tr>\n",
       "      <th>GrigorDimitrov</th>\n",
       "      <td>3</td>\n",
       "      <td>BUL</td>\n",
       "      <td>26</td>\n",
       "      <td>1991-05-16</td>\n",
       "      <td>80.0</td>\n",
       "      <td>191.0</td>\n",
       "      <td>49-19</td>\n",
       "      <td>4</td>\n",
       "      <td>6575244</td>\n",
       "      <td>3</td>\n",
       "      <td>257-161</td>\n",
       "      <td>8</td>\n",
       "      <td>14083976</td>\n",
       "    </tr>\n",
       "    <tr>\n",
       "      <th>AlexanderZverev</th>\n",
       "      <td>4</td>\n",
       "      <td>GER</td>\n",
       "      <td>20</td>\n",
       "      <td>1997-04-20</td>\n",
       "      <td>86.0</td>\n",
       "      <td>198.0</td>\n",
       "      <td>55-22</td>\n",
       "      <td>5</td>\n",
       "      <td>5006313</td>\n",
       "      <td>3</td>\n",
       "      <td>117-70</td>\n",
       "      <td>6</td>\n",
       "      <td>7041628</td>\n",
       "    </tr>\n",
       "    <tr>\n",
       "      <th>DominicThiem</th>\n",
       "      <td>5</td>\n",
       "      <td>AUT</td>\n",
       "      <td>24</td>\n",
       "      <td>1993-09-03</td>\n",
       "      <td>82.0</td>\n",
       "      <td>185.0</td>\n",
       "      <td>49-27</td>\n",
       "      <td>1</td>\n",
       "      <td>4283907</td>\n",
       "      <td>4</td>\n",
       "      <td>171-109</td>\n",
       "      <td>8</td>\n",
       "      <td>9507497</td>\n",
       "    </tr>\n",
       "    <tr>\n",
       "      <th>MarinCilic</th>\n",
       "      <td>6</td>\n",
       "      <td>CRO</td>\n",
       "      <td>29</td>\n",
       "      <td>1988-09-28</td>\n",
       "      <td>89.0</td>\n",
       "      <td>198.0</td>\n",
       "      <td>44-22</td>\n",
       "      <td>1</td>\n",
       "      <td>4004923</td>\n",
       "      <td>4</td>\n",
       "      <td>435-232</td>\n",
       "      <td>17</td>\n",
       "      <td>20919276</td>\n",
       "    </tr>\n",
       "    <tr>\n",
       "      <th>DavidGoffin</th>\n",
       "      <td>7</td>\n",
       "      <td>BEL</td>\n",
       "      <td>27</td>\n",
       "      <td>1990-12-07</td>\n",
       "      <td>68.0</td>\n",
       "      <td>180.0</td>\n",
       "      <td>59-24</td>\n",
       "      <td>2</td>\n",
       "      <td>3890613</td>\n",
       "      <td>7</td>\n",
       "      <td>201-128</td>\n",
       "      <td>4</td>\n",
       "      <td>8995195</td>\n",
       "    </tr>\n",
       "    <tr>\n",
       "      <th>JackSock</th>\n",
       "      <td>8</td>\n",
       "      <td>USA</td>\n",
       "      <td>25</td>\n",
       "      <td>1992-09-24</td>\n",
       "      <td>84.0</td>\n",
       "      <td>191.0</td>\n",
       "      <td>38-21</td>\n",
       "      <td>3</td>\n",
       "      <td>3149419</td>\n",
       "      <td>8</td>\n",
       "      <td>153-103</td>\n",
       "      <td>4</td>\n",
       "      <td>8171779</td>\n",
       "    </tr>\n",
       "    <tr>\n",
       "      <th>StanWawrinka</th>\n",
       "      <td>9</td>\n",
       "      <td>SUI</td>\n",
       "      <td>32</td>\n",
       "      <td>1985-03-28</td>\n",
       "      <td>81.0</td>\n",
       "      <td>183.0</td>\n",
       "      <td>26-11</td>\n",
       "      <td>1</td>\n",
       "      <td>3083829</td>\n",
       "      <td>3</td>\n",
       "      <td>465-262</td>\n",
       "      <td>16</td>\n",
       "      <td>30905144</td>\n",
       "    </tr>\n",
       "    <tr>\n",
       "      <th>PabloCarrenoBusta</th>\n",
       "      <td>10</td>\n",
       "      <td>ESP</td>\n",
       "      <td>26</td>\n",
       "      <td>1991-07-12</td>\n",
       "      <td>78.0</td>\n",
       "      <td>188.0</td>\n",
       "      <td>36-26</td>\n",
       "      <td>1</td>\n",
       "      <td>2843305</td>\n",
       "      <td>10</td>\n",
       "      <td>111-110</td>\n",
       "      <td>3</td>\n",
       "      <td>5746293</td>\n",
       "    </tr>\n",
       "  </tbody>\n",
       "</table>\n",
       "</div>"
      ],
      "text/plain": [
       "                   Rank Country  Age   Birthday  Weight  Height  WL_17  T17  \\\n",
       "RafaelNadal           1     ESP   31 1986-06-03    85.0   185.0  67-11    6   \n",
       "RogerFederer          2     SUI   36 1981-08-08    85.0   185.0   52-5    7   \n",
       "GrigorDimitrov        3     BUL   26 1991-05-16    80.0   191.0  49-19    4   \n",
       "AlexanderZverev       4     GER   20 1997-04-20    86.0   198.0  55-22    5   \n",
       "DominicThiem          5     AUT   24 1993-09-03    82.0   185.0  49-27    1   \n",
       "MarinCilic            6     CRO   29 1988-09-28    89.0   198.0  44-22    1   \n",
       "DavidGoffin           7     BEL   27 1990-12-07    68.0   180.0  59-24    2   \n",
       "JackSock              8     USA   25 1992-09-24    84.0   191.0  38-21    3   \n",
       "StanWawrinka          9     SUI   32 1985-03-28    81.0   183.0  26-11    1   \n",
       "PabloCarrenoBusta    10     ESP   26 1991-07-12    78.0   188.0  36-26    1   \n",
       "\n",
       "                     Earn17  Career_high WL_career  T_career  Earn_career  \n",
       "RafaelNadal        15851340            1   873-185        75     94588627  \n",
       "RogerFederer       13054856            1  1132-250        95    111885682  \n",
       "GrigorDimitrov      6575244            3   257-161         8     14083976  \n",
       "AlexanderZverev     5006313            3    117-70         6      7041628  \n",
       "DominicThiem        4283907            4   171-109         8      9507497  \n",
       "MarinCilic          4004923            4   435-232        17     20919276  \n",
       "DavidGoffin         3890613            7   201-128         4      8995195  \n",
       "JackSock            3149419            8   153-103         4      8171779  \n",
       "StanWawrinka        3083829            3   465-262        16     30905144  \n",
       "PabloCarrenoBusta   2843305           10   111-110         3      5746293  "
      ]
     },
     "execution_count": 3,
     "metadata": {},
     "output_type": "execute_result"
    }
   ],
   "source": [
    "#uvozimo vse podatke, ki smo jih dobili na spletni strani ATP\n",
    "vsi_podatki = pd.read_csv('podatki.csv', encoding = \"utf-8\", sep=';',thousands=\",\")\n",
    "\n",
    "#popravimo rojstne dneve, da lahko kasneje dostopamo do leta, meseca in dneva rojstva\n",
    "vsi_podatki['Birthday'] = pd.to_datetime(vsi_podatki['Birthday'], format=\"%Y.%m.%d\")\n",
    "\n",
    "#podatki nekaj igralcev, da vidimo, s cim se ukvarjamo\n",
    "vsi_podatki[:10]"
   ]
  },
  {
   "cell_type": "code",
   "execution_count": 40,
   "metadata": {},
   "outputs": [
    {
     "data": {
      "text/plain": [
       "Rank                             2\n",
       "Country                        SUI\n",
       "Age                             36\n",
       "Birthday       1981-08-08 00:00:00\n",
       "Weight                          85\n",
       "Height                         185\n",
       "WL_17                         52-5\n",
       "T17                              7\n",
       "Earn17                    13054856\n",
       "Career_high                      1\n",
       "WL_career                 1132-250\n",
       "T_career                        95\n",
       "Earn_career              111885682\n",
       "Name: RogerFederer, dtype: object"
      ]
     },
     "execution_count": 40,
     "metadata": {},
     "output_type": "execute_result"
    }
   ],
   "source": [
    "vsi_podatki.iloc[1]"
   ]
  },
  {
   "cell_type": "code",
   "execution_count": 631,
   "metadata": {
    "collapsed": true
   },
   "outputs": [
    {
     "data": {
      "text/plain": [
       "Age\n",
       "31    116.923077\n",
       "29    149.818182\n",
       "32    163.117647\n",
       "30    178.000000\n",
       "25    193.567568\n",
       "22    195.190476\n",
       "27    195.627907\n",
       "28    220.076923\n",
       "20    228.391304\n",
       "21    232.187500\n",
       "23    235.347826\n",
       "26    237.777778\n",
       "24    244.178571\n",
       "19    251.933333\n",
       "Name: Rank, dtype: float64"
      ]
     },
     "execution_count": 631,
     "metadata": {},
     "output_type": "execute_result"
    }
   ],
   "source": [
    "podatki = vsi_podatki[:400]\n",
    "pogosta_starost = podatki.groupby('Age').count()\n",
    "pogosta_starost = pogosta_starost.loc[pogosta_starost['Rank']>12].index\n",
    "starost = podatki[podatki['Age'].isin(pogosta_starost)].groupby('Age')['Rank'].mean().sort_values()\n",
    "starost\n",
    "\n",
    "#vsi_podatki[:400].groupby('Age').count()\n",
    "\n",
    "# a naj kle vkljucim tud tiste 31 stare, k jih je samo 13? (spreminjas > 12)\n",
    "\n",
    "#rojstni_dnevi[:100].plot(x ='Age', y='Rank', kind='bar', title='Razmerje',legend=False,figsize=(10,10))"
   ]
  },
  {
   "cell_type": "markdown",
   "metadata": {},
   "source": [
    "Med top 400 igralci so povprecno najvisje uvrsceni igralci, ki so stari 29 let."
   ]
  },
  {
   "cell_type": "code",
   "execution_count": 12,
   "metadata": {
    "collapsed": true
   },
   "outputs": [
    {
     "name": "stdout",
     "output_type": "stream",
     "text": [
      "8\n"
     ]
    },
    {
     "data": {
      "image/png": "[encoded data removed]",
      "text/plain": [
       "<matplotlib.figure.Figure at 0x214c98780b8>"
      ]
     },
     "metadata": {},
     "output_type": "display_data"
    }
   ],
   "source": [
    "#Pogledamo, katera drzava ima najvec profesionalnih moskih igralcev\n",
    "drz = vsi_podatki.groupby('Country').size()\n",
    "drz = drz.sort_values(ascending=False)\n",
    "drz[:10].plot(kind='barh')\n",
    "print(drz['SLO'])"
   ]
  },
  {
   "cell_type": "markdown",
   "metadata": {},
   "source": [
    "Najvec profesionalnih tenisacev prihaja iz Zdruzenih drzav Amerike, medtem ko je profesionalnih Slovencev 8."
   ]
  },
  {
   "cell_type": "code",
   "execution_count": 30,
   "metadata": {},
   "outputs": [
    {
     "data": {
      "text/plain": [
       "Country\n",
       "ESP     1\n",
       "GER     4\n",
       "USA     8\n",
       "ARG    11\n",
       "FRA    15\n",
       "GBR    16\n",
       "AUS    21\n",
       "JPN    22\n",
       "ITA    27\n",
       "RUS    39\n",
       "Name: Rank, dtype: int64"
      ]
     },
     "execution_count": 30,
     "metadata": {},
     "output_type": "execute_result"
    }
   ],
   "source": [
    "drzave = drz[:10].index\n",
    "rank = vsi_podatki[vsi_podatki['Country'].isin(drzave)].groupby('Country')['Rank'].min().sort_values()\n",
    "rank"
   ]
  },
  {
   "cell_type": "markdown",
   "metadata": {},
   "source": [
    "Najvecje stevilo igralcev ne zagotavlja najboljsih, saj je najboljsi American sele na 8. mestu, medtem ko imajo Spanci (4. najbolj pogost narod) najboljsega igralca."
   ]
  },
  {
   "cell_type": "code",
   "execution_count": null,
   "metadata": {},
   "outputs": [],
   "source": [
    "#poglejmo sedaj, za koga je bila sezona 2017 najbolj dobickonosna in kaksna je povezava med zasluzki in turnirskimi zmagami"
   ]
  },
  {
   "cell_type": "code",
   "execution_count": null,
   "metadata": {},
   "outputs": [],
   "source": [
    "vsi_podatki.groupby('T_career')['Earn_career'].mean().sort_values(ascending=False).plot(figsize=(10,10))"
   ]
  },
  {
   "cell_type": "code",
   "execution_count": 32,
   "metadata": {
    "collapsed": true
   },
   "outputs": [
    {
     "ename": "ValueError",
     "evalue": "can not merge DataFrame with instance of type <class 'str'>",
     "output_type": "error",
     "traceback": [
      "\u001b[1;31m---------------------------------------------------------------------------\u001b[0m",
      "\u001b[1;31mValueError\u001b[0m                                Traceback (most recent call last)",
      "\u001b[1;32m<ipython-input-32-532dda7952e2>\u001b[0m in \u001b[0;36m<module>\u001b[1;34m()\u001b[0m\n\u001b[0;32m      1\u001b[0m \u001b[0mpla\u001b[0m \u001b[1;33m=\u001b[0m \u001b[0mvsi_podatki\u001b[0m\u001b[1;33m.\u001b[0m\u001b[0mgroupby\u001b[0m\u001b[1;33m(\u001b[0m\u001b[1;34m'Age'\u001b[0m\u001b[1;33m)\u001b[0m\u001b[1;33m\u001b[0m\u001b[0m\n\u001b[0;32m      2\u001b[0m \u001b[1;31m#pla['Earn17'].plot()\u001b[0m\u001b[1;33m\u001b[0m\u001b[1;33m\u001b[0m\u001b[0m\n\u001b[1;32m----> 3\u001b[1;33m \u001b[0mPodatki_Place\u001b[0m \u001b[1;33m=\u001b[0m \u001b[0mvsi_podatki\u001b[0m\u001b[1;33m.\u001b[0m\u001b[0mmerge\u001b[0m\u001b[1;33m(\u001b[0m\u001b[1;34m'Earn17'\u001b[0m\u001b[1;33m,\u001b[0m \u001b[0mon\u001b[0m \u001b[1;33m=\u001b[0m \u001b[1;34m'Name'\u001b[0m\u001b[1;33m)\u001b[0m\u001b[1;33m\u001b[0m\u001b[0m\n\u001b[0m\u001b[0;32m      4\u001b[0m \u001b[1;31m#plot(x='Age',y='Earn17')\u001b[0m\u001b[1;33m\u001b[0m\u001b[1;33m\u001b[0m\u001b[0m\n\u001b[0;32m      5\u001b[0m \u001b[0mpla\u001b[0m\u001b[1;33m\u001b[0m\u001b[0m\n",
      "\u001b[1;32mD:\\nanaconda\\lib\\site-packages\\pandas\\core\\frame.py\u001b[0m in \u001b[0;36mmerge\u001b[1;34m(self, right, how, on, left_on, right_on, left_index, right_index, sort, suffixes, copy, indicator)\u001b[0m\n\u001b[0;32m   4720\u001b[0m                      \u001b[0mright_on\u001b[0m\u001b[1;33m=\u001b[0m\u001b[0mright_on\u001b[0m\u001b[1;33m,\u001b[0m \u001b[0mleft_index\u001b[0m\u001b[1;33m=\u001b[0m\u001b[0mleft_index\u001b[0m\u001b[1;33m,\u001b[0m\u001b[1;33m\u001b[0m\u001b[0m\n\u001b[0;32m   4721\u001b[0m                      \u001b[0mright_index\u001b[0m\u001b[1;33m=\u001b[0m\u001b[0mright_index\u001b[0m\u001b[1;33m,\u001b[0m \u001b[0msort\u001b[0m\u001b[1;33m=\u001b[0m\u001b[0msort\u001b[0m\u001b[1;33m,\u001b[0m \u001b[0msuffixes\u001b[0m\u001b[1;33m=\u001b[0m\u001b[0msuffixes\u001b[0m\u001b[1;33m,\u001b[0m\u001b[1;33m\u001b[0m\u001b[0m\n\u001b[1;32m-> 4722\u001b[1;33m                      copy=copy, indicator=indicator)\n\u001b[0m\u001b[0;32m   4723\u001b[0m \u001b[1;33m\u001b[0m\u001b[0m\n\u001b[0;32m   4724\u001b[0m     \u001b[1;32mdef\u001b[0m \u001b[0mround\u001b[0m\u001b[1;33m(\u001b[0m\u001b[0mself\u001b[0m\u001b[1;33m,\u001b[0m \u001b[0mdecimals\u001b[0m\u001b[1;33m=\u001b[0m\u001b[1;36m0\u001b[0m\u001b[1;33m,\u001b[0m \u001b[1;33m*\u001b[0m\u001b[0margs\u001b[0m\u001b[1;33m,\u001b[0m \u001b[1;33m**\u001b[0m\u001b[0mkwargs\u001b[0m\u001b[1;33m)\u001b[0m\u001b[1;33m:\u001b[0m\u001b[1;33m\u001b[0m\u001b[0m\n",
      "\u001b[1;32mD:\\nanaconda\\lib\\site-packages\\pandas\\core\\reshape\\merge.py\u001b[0m in \u001b[0;36mmerge\u001b[1;34m(left, right, how, on, left_on, right_on, left_index, right_index, sort, suffixes, copy, indicator)\u001b[0m\n\u001b[0;32m     51\u001b[0m                          \u001b[0mright_on\u001b[0m\u001b[1;33m=\u001b[0m\u001b[0mright_on\u001b[0m\u001b[1;33m,\u001b[0m \u001b[0mleft_index\u001b[0m\u001b[1;33m=\u001b[0m\u001b[0mleft_index\u001b[0m\u001b[1;33m,\u001b[0m\u001b[1;33m\u001b[0m\u001b[0m\n\u001b[0;32m     52\u001b[0m                          \u001b[0mright_index\u001b[0m\u001b[1;33m=\u001b[0m\u001b[0mright_index\u001b[0m\u001b[1;33m,\u001b[0m \u001b[0msort\u001b[0m\u001b[1;33m=\u001b[0m\u001b[0msort\u001b[0m\u001b[1;33m,\u001b[0m \u001b[0msuffixes\u001b[0m\u001b[1;33m=\u001b[0m\u001b[0msuffixes\u001b[0m\u001b[1;33m,\u001b[0m\u001b[1;33m\u001b[0m\u001b[0m\n\u001b[1;32m---> 53\u001b[1;33m                          copy=copy, indicator=indicator)\n\u001b[0m\u001b[0;32m     54\u001b[0m     \u001b[1;32mreturn\u001b[0m \u001b[0mop\u001b[0m\u001b[1;33m.\u001b[0m\u001b[0mget_result\u001b[0m\u001b[1;33m(\u001b[0m\u001b[1;33m)\u001b[0m\u001b[1;33m\u001b[0m\u001b[0m\n\u001b[0;32m     55\u001b[0m \u001b[1;33m\u001b[0m\u001b[0m\n",
      "\u001b[1;32mD:\\nanaconda\\lib\\site-packages\\pandas\\core\\reshape\\merge.py\u001b[0m in \u001b[0;36m__init__\u001b[1;34m(self, left, right, how, on, left_on, right_on, axis, left_index, right_index, sort, suffixes, copy, indicator)\u001b[0m\n\u001b[0;32m    533\u001b[0m             raise ValueError(\n\u001b[0;32m    534\u001b[0m                 \u001b[1;34m'can not merge DataFrame with instance of '\u001b[0m\u001b[1;33m\u001b[0m\u001b[0m\n\u001b[1;32m--> 535\u001b[1;33m                 'type {0}'.format(type(right)))\n\u001b[0m\u001b[0;32m    536\u001b[0m \u001b[1;33m\u001b[0m\u001b[0m\n\u001b[0;32m    537\u001b[0m         \u001b[1;32mif\u001b[0m \u001b[1;32mnot\u001b[0m \u001b[0mis_bool\u001b[0m\u001b[1;33m(\u001b[0m\u001b[0mleft_index\u001b[0m\u001b[1;33m)\u001b[0m\u001b[1;33m:\u001b[0m\u001b[1;33m\u001b[0m\u001b[0m\n",
      "\u001b[1;31mValueError\u001b[0m: can not merge DataFrame with instance of type <class 'str'>"
     ]
    }
   ],
   "source": [
    "pla = vsi_podatki.groupby('Age')\n",
    "#pla['Earn17'].plot()\n",
    "Podatki_Place = vsi_podatki.merge('Earn17', on = 'Name')\n",
    "#plot(x='Age',y='Earn17')\n",
    "pla"
   ]
  },
  {
   "cell_type": "code",
   "execution_count": 43,
   "metadata": {
    "scrolled": false
   },
   "outputs": [
    {
     "data": {
      "text/html": [
       "<div>\n",
       "<style>\n",
       "    .dataframe thead tr:only-child th {\n",
       "        text-align: right;\n",
       "    }\n",
       "\n",
       "    .dataframe thead th {\n",
       "        text-align: left;\n",
       "    }\n",
       "\n",
       "    .dataframe tbody tr th {\n",
       "        vertical-align: top;\n",
       "    }\n",
       "</style>\n",
       "<table border=\"1\" class=\"dataframe\">\n",
       "  <thead>\n",
       "    <tr style=\"text-align: right;\">\n",
       "      <th></th>\n",
       "      <th>Rank</th>\n",
       "      <th>Country</th>\n",
       "      <th>Age</th>\n",
       "      <th>Birthday</th>\n",
       "      <th>Weight</th>\n",
       "      <th>Height</th>\n",
       "      <th>WL_17</th>\n",
       "      <th>T17</th>\n",
       "      <th>Earn17</th>\n",
       "      <th>Career_high</th>\n",
       "      <th>WL_career</th>\n",
       "      <th>T_career</th>\n",
       "      <th>Earn_career</th>\n",
       "    </tr>\n",
       "  </thead>\n",
       "  <tbody>\n",
       "    <tr>\n",
       "      <th>RafaelNadal</th>\n",
       "      <td>1</td>\n",
       "      <td>ESP</td>\n",
       "      <td>31</td>\n",
       "      <td>1986-06-03</td>\n",
       "      <td>85.0</td>\n",
       "      <td>185.0</td>\n",
       "      <td>67-11</td>\n",
       "      <td>6</td>\n",
       "      <td>15851340</td>\n",
       "      <td>1</td>\n",
       "      <td>873-185</td>\n",
       "      <td>75</td>\n",
       "      <td>94588627</td>\n",
       "    </tr>\n",
       "    <tr>\n",
       "      <th>RogerFederer</th>\n",
       "      <td>2</td>\n",
       "      <td>SUI</td>\n",
       "      <td>36</td>\n",
       "      <td>1981-08-08</td>\n",
       "      <td>85.0</td>\n",
       "      <td>185.0</td>\n",
       "      <td>52-5</td>\n",
       "      <td>7</td>\n",
       "      <td>13054856</td>\n",
       "      <td>1</td>\n",
       "      <td>1132-250</td>\n",
       "      <td>95</td>\n",
       "      <td>111885682</td>\n",
       "    </tr>\n",
       "    <tr>\n",
       "      <th>NovakDjokovic</th>\n",
       "      <td>12</td>\n",
       "      <td>SRB</td>\n",
       "      <td>30</td>\n",
       "      <td>1987-05-22</td>\n",
       "      <td>77.0</td>\n",
       "      <td>188.0</td>\n",
       "      <td>32-8</td>\n",
       "      <td>2</td>\n",
       "      <td>2083741</td>\n",
       "      <td>1</td>\n",
       "      <td>783-163</td>\n",
       "      <td>68</td>\n",
       "      <td>109805403</td>\n",
       "    </tr>\n",
       "    <tr>\n",
       "      <th>AndyMurray</th>\n",
       "      <td>16</td>\n",
       "      <td>GBR</td>\n",
       "      <td>30</td>\n",
       "      <td>1987-05-15</td>\n",
       "      <td>84.0</td>\n",
       "      <td>191.0</td>\n",
       "      <td>25-10</td>\n",
       "      <td>1</td>\n",
       "      <td>2071625</td>\n",
       "      <td>1</td>\n",
       "      <td>655-184</td>\n",
       "      <td>45</td>\n",
       "      <td>60807644</td>\n",
       "    </tr>\n",
       "  </tbody>\n",
       "</table>\n",
       "</div>"
      ],
      "text/plain": [
       "               Rank Country  Age   Birthday  Weight  Height  WL_17  T17  \\\n",
       "RafaelNadal       1     ESP   31 1986-06-03    85.0   185.0  67-11    6   \n",
       "RogerFederer      2     SUI   36 1981-08-08    85.0   185.0   52-5    7   \n",
       "NovakDjokovic    12     SRB   30 1987-05-22    77.0   188.0   32-8    2   \n",
       "AndyMurray       16     GBR   30 1987-05-15    84.0   191.0  25-10    1   \n",
       "\n",
       "                 Earn17  Career_high WL_career  T_career  Earn_career  \n",
       "RafaelNadal    15851340            1   873-185        75     94588627  \n",
       "RogerFederer   13054856            1  1132-250        95    111885682  \n",
       "NovakDjokovic   2083741            1   783-163        68    109805403  \n",
       "AndyMurray      2071625            1   655-184        45     60807644  "
      ]
     },
     "execution_count": 43,
     "metadata": {},
     "output_type": "execute_result"
    }
   ],
   "source": [
    "high = vsi_podatki.groupby('Career_high')\n",
    "high.get_group(1)"
   ]
  },
  {
   "cell_type": "markdown",
   "metadata": {},
   "source": [
    "Od trenutno aktivnih igralcev so le zgornji 4 v svoji karieri zasedli 1. mesto na lestvici."
   ]
  },
  {
   "cell_type": "code",
   "execution_count": 60,
   "metadata": {},
   "outputs": [
    {
     "data": {
      "text/plain": [
       "221"
      ]
     },
     "execution_count": 60,
     "metadata": {},
     "output_type": "execute_result"
    }
   ],
   "source": [
    "vsi_podatki[vsi_podatki['Career_high'] <= 100]['Rank'].count()"
   ]
  },
  {
   "cell_type": "markdown",
   "metadata": {},
   "source": [
    "Od trenutno aktivnih jih je 221 ze bilo nekoc uvrscenih med top 100."
   ]
  },
  {
   "cell_type": "code",
   "execution_count": 48,
   "metadata": {},
   "outputs": [
    {
     "data": {
      "text/plain": [
       "<matplotlib.figure.Figure at 0x20157fa49b0>"
      ]
     },
     "metadata": {},
     "output_type": "display_data"
    },
    {
     "data": {
      "image/png": "[encoded data removed]",
      "text/plain": [
       "<matplotlib.figure.Figure at 0x201595cc3c8>"
      ]
     },
     "metadata": {},
     "output_type": "display_data"
    },
    {
     "data": {
      "text/plain": [
       "<matplotlib.figure.Figure at 0x20159160550>"
      ]
     },
     "metadata": {},
     "output_type": "display_data"
    }
   ],
   "source": [
    "y1 = vsi_podatki.Birthday.dt.month.groupby(by=vsi_podatki.Birthday.dt.month).size()\n",
    "y2 = vsi_podatki[:400].Birthday.dt.month.groupby(by=vsi_podatki[:400].Birthday.dt.month).size()\n",
    "\n",
    "plot.figure()\n",
    "f, axes = plot.subplots(1, 2)\n",
    "axes[0].set_title('Rojstni mesec')\n",
    "axes[0].plot(y1)\n",
    "\n",
    "fig_size = plot.rcParams[\"figure.figsize\"]\n",
    "fig_size[0] = 15\n",
    "fig_size[1] = 5\n",
    "\n",
    "plot.figure()\n",
    "axes[1].set_title('Rojstni mesec top 400')\n",
    "axes[1].plot(y2)\n",
    "\n",
    "plot.tight_layout()"
   ]
  },
  {
   "cell_type": "markdown",
   "metadata": {},
   "source": [
    "Med preofesionalnimi tenisaci je viden skok v stevilu rojstnih dni januarja, aprila in maja, medtem ko jih je rojenih v novembru in decembru obcutno manj.\n"
   ]
  },
  {
   "cell_type": "code",
   "execution_count": 137,
   "metadata": {},
   "outputs": [
    {
     "ename": "TypeError",
     "evalue": "'int' object is not subscriptable",
     "output_type": "error",
     "traceback": [
      "\u001b[1;31m---------------------------------------------------------------------------\u001b[0m",
      "\u001b[1;31mTypeError\u001b[0m                                 Traceback (most recent call last)",
      "\u001b[1;32m<ipython-input-137-e748e6b2e1f8>\u001b[0m in \u001b[0;36m<module>\u001b[1;34m()\u001b[0m\n\u001b[0;32m      1\u001b[0m \u001b[0mmeseci\u001b[0m \u001b[1;33m=\u001b[0m \u001b[0mvsi_podatki\u001b[0m\u001b[1;33m[\u001b[0m\u001b[1;33m:\u001b[0m\u001b[1;36m400\u001b[0m\u001b[1;33m]\u001b[0m\u001b[1;33m.\u001b[0m\u001b[0mBirthday\u001b[0m\u001b[1;33m.\u001b[0m\u001b[0mdt\u001b[0m\u001b[1;33m.\u001b[0m\u001b[0mmonth\u001b[0m\u001b[1;33m.\u001b[0m\u001b[0mgroupby\u001b[0m\u001b[1;33m(\u001b[0m\u001b[0mby\u001b[0m\u001b[1;33m=\u001b[0m\u001b[0mvsi_podatki\u001b[0m\u001b[1;33m[\u001b[0m\u001b[1;33m:\u001b[0m\u001b[1;36m300\u001b[0m\u001b[1;33m]\u001b[0m\u001b[1;33m.\u001b[0m\u001b[0mBirthday\u001b[0m\u001b[1;33m.\u001b[0m\u001b[0mdt\u001b[0m\u001b[1;33m.\u001b[0m\u001b[0mmonth\u001b[0m\u001b[1;33m)\u001b[0m\u001b[1;33m.\u001b[0m\u001b[0msize\u001b[0m\u001b[1;33m(\u001b[0m\u001b[1;33m)\u001b[0m\u001b[1;33m\u001b[0m\u001b[0m\n\u001b[1;32m----> 2\u001b[1;33m \u001b[0mmeseci\u001b[0m\u001b[1;33m.\u001b[0m\u001b[0mplot\u001b[0m\u001b[1;33m(\u001b[0m\u001b[0mkind\u001b[0m\u001b[1;33m=\u001b[0m\u001b[1;34m'line'\u001b[0m\u001b[1;33m)\u001b[0m\u001b[1;33m\u001b[0m\u001b[0m\n\u001b[0m\u001b[0;32m      3\u001b[0m \u001b[0mmeseci\u001b[0m\u001b[1;33m.\u001b[0m\u001b[0msort_values\u001b[0m\u001b[1;33m(\u001b[0m\u001b[0mascending\u001b[0m\u001b[1;33m=\u001b[0m\u001b[1;32mFalse\u001b[0m\u001b[1;33m)\u001b[0m\u001b[1;33m\u001b[0m\u001b[0m\n",
      "\u001b[1;32mD:\\nanaconda\\lib\\site-packages\\pandas\\plotting\\_core.py\u001b[0m in \u001b[0;36m__call__\u001b[1;34m(self, kind, ax, figsize, use_index, title, grid, legend, style, logx, logy, loglog, xticks, yticks, xlim, ylim, rot, fontsize, colormap, table, yerr, xerr, label, secondary_y, **kwds)\u001b[0m\n\u001b[0;32m   2451\u001b[0m                            \u001b[0mcolormap\u001b[0m\u001b[1;33m=\u001b[0m\u001b[0mcolormap\u001b[0m\u001b[1;33m,\u001b[0m \u001b[0mtable\u001b[0m\u001b[1;33m=\u001b[0m\u001b[0mtable\u001b[0m\u001b[1;33m,\u001b[0m \u001b[0myerr\u001b[0m\u001b[1;33m=\u001b[0m\u001b[0myerr\u001b[0m\u001b[1;33m,\u001b[0m\u001b[1;33m\u001b[0m\u001b[0m\n\u001b[0;32m   2452\u001b[0m                            \u001b[0mxerr\u001b[0m\u001b[1;33m=\u001b[0m\u001b[0mxerr\u001b[0m\u001b[1;33m,\u001b[0m \u001b[0mlabel\u001b[0m\u001b[1;33m=\u001b[0m\u001b[0mlabel\u001b[0m\u001b[1;33m,\u001b[0m \u001b[0msecondary_y\u001b[0m\u001b[1;33m=\u001b[0m\u001b[0msecondary_y\u001b[0m\u001b[1;33m,\u001b[0m\u001b[1;33m\u001b[0m\u001b[0m\n\u001b[1;32m-> 2453\u001b[1;33m                            **kwds)\n\u001b[0m\u001b[0;32m   2454\u001b[0m     \u001b[0m__call__\u001b[0m\u001b[1;33m.\u001b[0m\u001b[0m__doc__\u001b[0m \u001b[1;33m=\u001b[0m \u001b[0mplot_series\u001b[0m\u001b[1;33m.\u001b[0m\u001b[0m__doc__\u001b[0m\u001b[1;33m\u001b[0m\u001b[0m\n\u001b[0;32m   2455\u001b[0m \u001b[1;33m\u001b[0m\u001b[0m\n",
      "\u001b[1;32mD:\\nanaconda\\lib\\site-packages\\pandas\\plotting\\_core.py\u001b[0m in \u001b[0;36mplot_series\u001b[1;34m(data, kind, ax, figsize, use_index, title, grid, legend, style, logx, logy, loglog, xticks, yticks, xlim, ylim, rot, fontsize, colormap, table, yerr, xerr, label, secondary_y, **kwds)\u001b[0m\n\u001b[0;32m   1892\u001b[0m                  \u001b[0myerr\u001b[0m\u001b[1;33m=\u001b[0m\u001b[0myerr\u001b[0m\u001b[1;33m,\u001b[0m \u001b[0mxerr\u001b[0m\u001b[1;33m=\u001b[0m\u001b[0mxerr\u001b[0m\u001b[1;33m,\u001b[0m\u001b[1;33m\u001b[0m\u001b[0m\n\u001b[0;32m   1893\u001b[0m                  \u001b[0mlabel\u001b[0m\u001b[1;33m=\u001b[0m\u001b[0mlabel\u001b[0m\u001b[1;33m,\u001b[0m \u001b[0msecondary_y\u001b[0m\u001b[1;33m=\u001b[0m\u001b[0msecondary_y\u001b[0m\u001b[1;33m,\u001b[0m\u001b[1;33m\u001b[0m\u001b[0m\n\u001b[1;32m-> 1894\u001b[1;33m                  **kwds)\n\u001b[0m\u001b[0;32m   1895\u001b[0m \u001b[1;33m\u001b[0m\u001b[0m\n\u001b[0;32m   1896\u001b[0m \u001b[1;33m\u001b[0m\u001b[0m\n",
      "\u001b[1;32mD:\\nanaconda\\lib\\site-packages\\pandas\\plotting\\_core.py\u001b[0m in \u001b[0;36m_plot\u001b[1;34m(data, x, y, subplots, ax, kind, **kwds)\u001b[0m\n\u001b[0;32m   1690\u001b[0m                             \u001b[1;32mpass\u001b[0m\u001b[1;33m\u001b[0m\u001b[0m\n\u001b[0;32m   1691\u001b[0m                 \u001b[0mdata\u001b[0m \u001b[1;33m=\u001b[0m \u001b[0mseries\u001b[0m\u001b[1;33m\u001b[0m\u001b[0m\n\u001b[1;32m-> 1692\u001b[1;33m         \u001b[0mplot_obj\u001b[0m \u001b[1;33m=\u001b[0m \u001b[0mklass\u001b[0m\u001b[1;33m(\u001b[0m\u001b[0mdata\u001b[0m\u001b[1;33m,\u001b[0m \u001b[0msubplots\u001b[0m\u001b[1;33m=\u001b[0m\u001b[0msubplots\u001b[0m\u001b[1;33m,\u001b[0m \u001b[0max\u001b[0m\u001b[1;33m=\u001b[0m\u001b[0max\u001b[0m\u001b[1;33m,\u001b[0m \u001b[0mkind\u001b[0m\u001b[1;33m=\u001b[0m\u001b[0mkind\u001b[0m\u001b[1;33m,\u001b[0m \u001b[1;33m**\u001b[0m\u001b[0mkwds\u001b[0m\u001b[1;33m)\u001b[0m\u001b[1;33m\u001b[0m\u001b[0m\n\u001b[0m\u001b[0;32m   1693\u001b[0m \u001b[1;33m\u001b[0m\u001b[0m\n\u001b[0;32m   1694\u001b[0m     \u001b[0mplot_obj\u001b[0m\u001b[1;33m.\u001b[0m\u001b[0mgenerate\u001b[0m\u001b[1;33m(\u001b[0m\u001b[1;33m)\u001b[0m\u001b[1;33m\u001b[0m\u001b[0m\n",
      "\u001b[1;32mD:\\nanaconda\\lib\\site-packages\\pandas\\plotting\\_core.py\u001b[0m in \u001b[0;36m__init__\u001b[1;34m(self, data, **kwargs)\u001b[0m\n\u001b[0;32m    902\u001b[0m \u001b[1;33m\u001b[0m\u001b[0m\n\u001b[0;32m    903\u001b[0m     \u001b[1;32mdef\u001b[0m \u001b[0m__init__\u001b[0m\u001b[1;33m(\u001b[0m\u001b[0mself\u001b[0m\u001b[1;33m,\u001b[0m \u001b[0mdata\u001b[0m\u001b[1;33m,\u001b[0m \u001b[1;33m**\u001b[0m\u001b[0mkwargs\u001b[0m\u001b[1;33m)\u001b[0m\u001b[1;33m:\u001b[0m\u001b[1;33m\u001b[0m\u001b[0m\n\u001b[1;32m--> 904\u001b[1;33m         \u001b[0mMPLPlot\u001b[0m\u001b[1;33m.\u001b[0m\u001b[0m__init__\u001b[0m\u001b[1;33m(\u001b[0m\u001b[0mself\u001b[0m\u001b[1;33m,\u001b[0m \u001b[0mdata\u001b[0m\u001b[1;33m,\u001b[0m \u001b[1;33m**\u001b[0m\u001b[0mkwargs\u001b[0m\u001b[1;33m)\u001b[0m\u001b[1;33m\u001b[0m\u001b[0m\n\u001b[0m\u001b[0;32m    905\u001b[0m         \u001b[1;32mif\u001b[0m \u001b[0mself\u001b[0m\u001b[1;33m.\u001b[0m\u001b[0mstacked\u001b[0m\u001b[1;33m:\u001b[0m\u001b[1;33m\u001b[0m\u001b[0m\n\u001b[0;32m    906\u001b[0m             \u001b[0mself\u001b[0m\u001b[1;33m.\u001b[0m\u001b[0mdata\u001b[0m \u001b[1;33m=\u001b[0m \u001b[0mself\u001b[0m\u001b[1;33m.\u001b[0m\u001b[0mdata\u001b[0m\u001b[1;33m.\u001b[0m\u001b[0mfillna\u001b[0m\u001b[1;33m(\u001b[0m\u001b[0mvalue\u001b[0m\u001b[1;33m=\u001b[0m\u001b[1;36m0\u001b[0m\u001b[1;33m)\u001b[0m\u001b[1;33m\u001b[0m\u001b[0m\n",
      "\u001b[1;32mD:\\nanaconda\\lib\\site-packages\\pandas\\plotting\\_core.py\u001b[0m in \u001b[0;36m__init__\u001b[1;34m(self, data, kind, by, subplots, sharex, sharey, use_index, figsize, grid, legend, rot, ax, fig, title, xlim, ylim, xticks, yticks, sort_columns, fontsize, secondary_y, colormap, table, layout, **kwds)\u001b[0m\n\u001b[0;32m    134\u001b[0m \u001b[1;33m\u001b[0m\u001b[0m\n\u001b[0;32m    135\u001b[0m         \u001b[1;32mif\u001b[0m \u001b[0mgrid\u001b[0m \u001b[1;32mis\u001b[0m \u001b[1;32mNone\u001b[0m\u001b[1;33m:\u001b[0m\u001b[1;33m\u001b[0m\u001b[0m\n\u001b[1;32m--> 136\u001b[1;33m             \u001b[0mgrid\u001b[0m \u001b[1;33m=\u001b[0m \u001b[1;32mFalse\u001b[0m \u001b[1;32mif\u001b[0m \u001b[0msecondary_y\u001b[0m \u001b[1;32melse\u001b[0m \u001b[0mself\u001b[0m\u001b[1;33m.\u001b[0m\u001b[0mplt\u001b[0m\u001b[1;33m.\u001b[0m\u001b[0mrcParams\u001b[0m\u001b[1;33m[\u001b[0m\u001b[1;34m'axes.grid'\u001b[0m\u001b[1;33m]\u001b[0m\u001b[1;33m\u001b[0m\u001b[0m\n\u001b[0m\u001b[0;32m    137\u001b[0m \u001b[1;33m\u001b[0m\u001b[0m\n\u001b[0;32m    138\u001b[0m         \u001b[0mself\u001b[0m\u001b[1;33m.\u001b[0m\u001b[0mgrid\u001b[0m \u001b[1;33m=\u001b[0m \u001b[0mgrid\u001b[0m\u001b[1;33m\u001b[0m\u001b[0m\n",
      "\u001b[1;31mTypeError\u001b[0m: 'int' object is not subscriptable"
     ]
    }
   ],
   "source": [
    "meseci = vsi_podatki[:400].Birthday.dt.month.groupby(by=vsi_podatki[:300].Birthday.dt.month).size()\n",
    "meseci.plot(kind='line')\n",
    "meseci.sort_values(ascending=False)"
   ]
  },
  {
   "cell_type": "code",
   "execution_count": null,
   "metadata": {},
   "outputs": [],
   "source": [
    "Zgornje "
   ]
  },
  {
   "cell_type": "code",
   "execution_count": 14,
   "metadata": {},
   "outputs": [
    {
     "data": {
      "text/plain": [
       "(186.98, 185.15151515151516, 186.32608695652175)"
      ]
     },
     "execution_count": 14,
     "metadata": {},
     "output_type": "execute_result"
    }
   ],
   "source": [
    "top100 = vsi_podatki[:100]\n",
    "top2100 = vsi_podatki[100:200]\n",
    "a = top100['Height'].mean()\n",
    "b = top2100['Height'].mean()\n",
    "\n",
    "top3100 = vsi_podatki[200:300]\n",
    "c = top3100['Height'].mean()\n",
    "a, b,c"
   ]
  },
  {
   "cell_type": "code",
   "execution_count": 503,
   "metadata": {},
   "outputs": [
    {
     "data": {
      "text/plain": [
       "(80.13, 78.98, 79.30526315789474)"
      ]
     },
     "execution_count": 503,
     "metadata": {},
     "output_type": "execute_result"
    }
   ],
   "source": [
    "top100 = vsi_podatki[:100]\n",
    "top2100 = vsi_podatki[100:200]\n",
    "a = top100['Weight'].mean()\n",
    "b = top2100['Weight'].mean()\n",
    "\n",
    "top3100 = vsi_podatki[200:300]\n",
    "c = top3100['Weight'].mean()\n",
    "a, b,c"
   ]
  },
  {
   "cell_type": "code",
   "execution_count": 54,
   "metadata": {},
   "outputs": [
    {
     "ename": "TypeError",
     "evalue": "'module' object is not callable",
     "output_type": "error",
     "traceback": [
      "\u001b[1;31m---------------------------------------------------------------------------\u001b[0m",
      "\u001b[1;31mTypeError\u001b[0m                                 Traceback (most recent call last)",
      "\u001b[1;32m<ipython-input-54-0eda1334ebfe>\u001b[0m in \u001b[0;36m<module>\u001b[1;34m()\u001b[0m\n\u001b[0;32m      2\u001b[0m \u001b[0mx\u001b[0m \u001b[1;33m=\u001b[0m \u001b[1;33m[\u001b[0m\u001b[1;36m1\u001b[0m\u001b[1;33m,\u001b[0m\u001b[1;36m2\u001b[0m\u001b[1;33m,\u001b[0m\u001b[1;36m3\u001b[0m\u001b[1;33m,\u001b[0m\u001b[1;36m4\u001b[0m\u001b[1;33m]\u001b[0m\u001b[1;33m\u001b[0m\u001b[0m\n\u001b[0;32m      3\u001b[0m \u001b[0my\u001b[0m\u001b[1;33m=\u001b[0m\u001b[1;33m[\u001b[0m\u001b[1;36m5\u001b[0m\u001b[1;33m,\u001b[0m\u001b[1;36m6\u001b[0m\u001b[1;33m,\u001b[0m\u001b[1;36m7\u001b[0m\u001b[1;33m,\u001b[0m\u001b[1;36m8\u001b[0m\u001b[1;33m]\u001b[0m\u001b[1;33m\u001b[0m\u001b[0m\n\u001b[1;32m----> 4\u001b[1;33m \u001b[0mplot\u001b[0m\u001b[1;33m(\u001b[0m\u001b[0mx\u001b[0m \u001b[1;33m=\u001b[0m \u001b[0mx\u001b[0m\u001b[1;33m,\u001b[0m\u001b[0my\u001b[0m\u001b[1;33m=\u001b[0m\u001b[0my\u001b[0m\u001b[1;33m)\u001b[0m\u001b[1;33m\u001b[0m\u001b[0m\n\u001b[0m",
      "\u001b[1;31mTypeError\u001b[0m: 'module' object is not callable"
     ]
    }
   ],
   "source": [
    "#a = [(0,1),(3,2)]\n",
    "x = [1,2,3,4]\n",
    "y=[5,6,7,8]\n",
    "plot(x = x,y=y)"
   ]
  },
  {
   "cell_type": "code",
   "execution_count": null,
   "metadata": {},
   "outputs": [],
   "source": []
  }
 ],
 "metadata": {
  "kernelspec": {
   "display_name": "Python 3",
   "language": "python",
   "name": "python3"
  },
  "language_info": {
   "codemirror_mode": {
    "name": "ipython",
    "version": 3
   },
   "file_extension": ".py",
   "mimetype": "text/x-python",
   "name": "python",
   "nbconvert_exporter": "python",
   "pygments_lexer": "ipython3",
   "version": "3.6.3"
  }
 },
 "nbformat": 4,
 "nbformat_minor": 2
}
