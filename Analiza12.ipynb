{
 "cells": [
  {
   "cell_type": "code",
   "execution_count": 342,
   "metadata": {},
   "outputs": [],
   "source": [
    "import pandas as pd\n",
    "\n",
    "import matplotlib\n",
    "%matplotlib inline\n",
    "import numpy as np\n",
    "import math\n",
    "\n",
    "from matplotlib import pyplot as plot"
   ]
  },
  {
   "cell_type": "code",
   "execution_count": 318,
   "metadata": {
    "scrolled": true
   },
   "outputs": [
    {
     "data": {
      "text/html": [
       "<div>\n",
       "<style>\n",
       "    .dataframe thead tr:only-child th {\n",
       "        text-align: right;\n",
       "    }\n",
       "\n",
       "    .dataframe thead th {\n",
       "        text-align: left;\n",
       "    }\n",
       "\n",
       "    .dataframe tbody tr th {\n",
       "        vertical-align: top;\n",
       "    }\n",
       "</style>\n",
       "<table border=\"1\" class=\"dataframe\">\n",
       "  <thead>\n",
       "    <tr style=\"text-align: right;\">\n",
       "      <th></th>\n",
       "      <th>Rank</th>\n",
       "      <th>Country</th>\n",
       "      <th>Age</th>\n",
       "      <th>Birthday</th>\n",
       "      <th>Weight</th>\n",
       "      <th>Height</th>\n",
       "      <th>WL_17</th>\n",
       "      <th>T17</th>\n",
       "      <th>Earn17</th>\n",
       "      <th>Career_high</th>\n",
       "      <th>WL_career</th>\n",
       "      <th>T_career</th>\n",
       "      <th>Earn_career</th>\n",
       "    </tr>\n",
       "  </thead>\n",
       "  <tbody>\n",
       "    <tr>\n",
       "      <th>RafaelNadal</th>\n",
       "      <td>1</td>\n",
       "      <td>ESP</td>\n",
       "      <td>31</td>\n",
       "      <td>1986-06-03</td>\n",
       "      <td>85.0</td>\n",
       "      <td>185.0</td>\n",
       "      <td>67-11</td>\n",
       "      <td>6</td>\n",
       "      <td>15851340</td>\n",
       "      <td>1</td>\n",
       "      <td>873-185</td>\n",
       "      <td>75</td>\n",
       "      <td>94588627</td>\n",
       "    </tr>\n",
       "    <tr>\n",
       "      <th>RogerFederer</th>\n",
       "      <td>2</td>\n",
       "      <td>SUI</td>\n",
       "      <td>36</td>\n",
       "      <td>1981-08-08</td>\n",
       "      <td>85.0</td>\n",
       "      <td>185.0</td>\n",
       "      <td>52-5</td>\n",
       "      <td>7</td>\n",
       "      <td>13054856</td>\n",
       "      <td>1</td>\n",
       "      <td>1132-250</td>\n",
       "      <td>95</td>\n",
       "      <td>111885682</td>\n",
       "    </tr>\n",
       "    <tr>\n",
       "      <th>GrigorDimitrov</th>\n",
       "      <td>3</td>\n",
       "      <td>BUL</td>\n",
       "      <td>26</td>\n",
       "      <td>1991-05-16</td>\n",
       "      <td>80.0</td>\n",
       "      <td>191.0</td>\n",
       "      <td>49-19</td>\n",
       "      <td>4</td>\n",
       "      <td>6575244</td>\n",
       "      <td>3</td>\n",
       "      <td>257-161</td>\n",
       "      <td>8</td>\n",
       "      <td>14083976</td>\n",
       "    </tr>\n",
       "    <tr>\n",
       "      <th>AlexanderZverev</th>\n",
       "      <td>4</td>\n",
       "      <td>GER</td>\n",
       "      <td>20</td>\n",
       "      <td>1997-04-20</td>\n",
       "      <td>86.0</td>\n",
       "      <td>198.0</td>\n",
       "      <td>55-22</td>\n",
       "      <td>5</td>\n",
       "      <td>5006313</td>\n",
       "      <td>3</td>\n",
       "      <td>117-70</td>\n",
       "      <td>6</td>\n",
       "      <td>7041628</td>\n",
       "    </tr>\n",
       "    <tr>\n",
       "      <th>DominicThiem</th>\n",
       "      <td>5</td>\n",
       "      <td>AUT</td>\n",
       "      <td>24</td>\n",
       "      <td>1993-09-03</td>\n",
       "      <td>82.0</td>\n",
       "      <td>185.0</td>\n",
       "      <td>49-27</td>\n",
       "      <td>1</td>\n",
       "      <td>4283907</td>\n",
       "      <td>4</td>\n",
       "      <td>171-109</td>\n",
       "      <td>8</td>\n",
       "      <td>9507497</td>\n",
       "    </tr>\n",
       "    <tr>\n",
       "      <th>MarinCilic</th>\n",
       "      <td>6</td>\n",
       "      <td>CRO</td>\n",
       "      <td>29</td>\n",
       "      <td>1988-09-28</td>\n",
       "      <td>89.0</td>\n",
       "      <td>198.0</td>\n",
       "      <td>44-22</td>\n",
       "      <td>1</td>\n",
       "      <td>4004923</td>\n",
       "      <td>4</td>\n",
       "      <td>435-232</td>\n",
       "      <td>17</td>\n",
       "      <td>20919276</td>\n",
       "    </tr>\n",
       "    <tr>\n",
       "      <th>DavidGoffin</th>\n",
       "      <td>7</td>\n",
       "      <td>BEL</td>\n",
       "      <td>27</td>\n",
       "      <td>1990-12-07</td>\n",
       "      <td>68.0</td>\n",
       "      <td>180.0</td>\n",
       "      <td>59-24</td>\n",
       "      <td>2</td>\n",
       "      <td>3890613</td>\n",
       "      <td>7</td>\n",
       "      <td>201-128</td>\n",
       "      <td>4</td>\n",
       "      <td>8995195</td>\n",
       "    </tr>\n",
       "    <tr>\n",
       "      <th>JackSock</th>\n",
       "      <td>8</td>\n",
       "      <td>USA</td>\n",
       "      <td>25</td>\n",
       "      <td>1992-09-24</td>\n",
       "      <td>84.0</td>\n",
       "      <td>191.0</td>\n",
       "      <td>38-21</td>\n",
       "      <td>3</td>\n",
       "      <td>3149419</td>\n",
       "      <td>8</td>\n",
       "      <td>153-103</td>\n",
       "      <td>4</td>\n",
       "      <td>8171779</td>\n",
       "    </tr>\n",
       "    <tr>\n",
       "      <th>StanWawrinka</th>\n",
       "      <td>9</td>\n",
       "      <td>SUI</td>\n",
       "      <td>32</td>\n",
       "      <td>1985-03-28</td>\n",
       "      <td>81.0</td>\n",
       "      <td>183.0</td>\n",
       "      <td>26-11</td>\n",
       "      <td>1</td>\n",
       "      <td>3083829</td>\n",
       "      <td>3</td>\n",
       "      <td>465-262</td>\n",
       "      <td>16</td>\n",
       "      <td>30905144</td>\n",
       "    </tr>\n",
       "    <tr>\n",
       "      <th>PabloCarrenoBusta</th>\n",
       "      <td>10</td>\n",
       "      <td>ESP</td>\n",
       "      <td>26</td>\n",
       "      <td>1991-07-12</td>\n",
       "      <td>78.0</td>\n",
       "      <td>188.0</td>\n",
       "      <td>36-26</td>\n",
       "      <td>1</td>\n",
       "      <td>2843305</td>\n",
       "      <td>10</td>\n",
       "      <td>111-110</td>\n",
       "      <td>3</td>\n",
       "      <td>5746293</td>\n",
       "    </tr>\n",
       "  </tbody>\n",
       "</table>\n",
       "</div>"
      ],
      "text/plain": [
       "                   Rank Country  Age   Birthday  Weight  Height  WL_17  T17  \\\n",
       "RafaelNadal           1     ESP   31 1986-06-03    85.0   185.0  67-11    6   \n",
       "RogerFederer          2     SUI   36 1981-08-08    85.0   185.0   52-5    7   \n",
       "GrigorDimitrov        3     BUL   26 1991-05-16    80.0   191.0  49-19    4   \n",
       "AlexanderZverev       4     GER   20 1997-04-20    86.0   198.0  55-22    5   \n",
       "DominicThiem          5     AUT   24 1993-09-03    82.0   185.0  49-27    1   \n",
       "MarinCilic            6     CRO   29 1988-09-28    89.0   198.0  44-22    1   \n",
       "DavidGoffin           7     BEL   27 1990-12-07    68.0   180.0  59-24    2   \n",
       "JackSock              8     USA   25 1992-09-24    84.0   191.0  38-21    3   \n",
       "StanWawrinka          9     SUI   32 1985-03-28    81.0   183.0  26-11    1   \n",
       "PabloCarrenoBusta    10     ESP   26 1991-07-12    78.0   188.0  36-26    1   \n",
       "\n",
       "                     Earn17  Career_high WL_career  T_career  Earn_career  \n",
       "RafaelNadal        15851340            1   873-185        75     94588627  \n",
       "RogerFederer       13054856            1  1132-250        95    111885682  \n",
       "GrigorDimitrov      6575244            3   257-161         8     14083976  \n",
       "AlexanderZverev     5006313            3    117-70         6      7041628  \n",
       "DominicThiem        4283907            4   171-109         8      9507497  \n",
       "MarinCilic          4004923            4   435-232        17     20919276  \n",
       "DavidGoffin         3890613            7   201-128         4      8995195  \n",
       "JackSock            3149419            8   153-103         4      8171779  \n",
       "StanWawrinka        3083829            3   465-262        16     30905144  \n",
       "PabloCarrenoBusta   2843305           10   111-110         3      5746293  "
      ]
     },
     "execution_count": 318,
     "metadata": {},
     "output_type": "execute_result"
    }
   ],
   "source": [
    "#uvozimo vse podatke, ki smo jih dobili na spletni strani ATP\n",
    "vsi_podatki = pd.read_csv('podatki.csv', encoding = \"utf-8\", sep=';',thousands=\",\")\n",
    "\n",
    "#popravimo rojstne dneve, da lahko kasneje dostopamo do leta, meseca in dneva rojstva\n",
    "vsi_podatki['Birthday'] = pd.to_datetime(zapis['Birthday'], format=\"%Y.%m.%d\")\n",
    "\n",
    "#podatki nekaj igralcev, da vidimo, s cim se ukvarjamo\n",
    "vsi_podatki[:10]"
   ]
  },
  {
   "cell_type": "code",
   "execution_count": 432,
   "metadata": {},
   "outputs": [
    {
     "data": {
      "text/plain": [
       "Rank                             2\n",
       "Country                        SUI\n",
       "Age                             36\n",
       "Birthday       1981-08-08 00:00:00\n",
       "Weight                          85\n",
       "Height                         185\n",
       "WL_17                         52-5\n",
       "T17                              7\n",
       "Earn17                    13054856\n",
       "Career_high                      1\n",
       "WL_career                 1132-250\n",
       "T_career                        95\n",
       "Earn_career              111885682\n",
       "Name: RogerFederer, dtype: object"
      ]
     },
     "execution_count": 432,
     "metadata": {},
     "output_type": "execute_result"
    }
   ],
   "source": [
    "vsi_podatki.iloc[1]"
   ]
  },
  {
   "cell_type": "code",
   "execution_count": null,
   "metadata": {},
   "outputs": [],
   "source": [
    "#zapis(parse_dates=['Birthday'])\n",
    "rojstni_dnevi = vsi_podatki.sort_values(by=['Age'], ascending=True)\n",
    "rojstni_dnevi\n",
    "rojstni_dnevi[:100].plot(x ='Age', y='Rank', kind='bar', title='Razmerje',legend=False,figsize=(10,10))"
   ]
  },
  {
   "cell_type": "code",
   "execution_count": null,
   "metadata": {},
   "outputs": [],
   "source": [
    "drzava = zapis.groupby('Birthday')\n",
    "drzava.count()"
   ]
  },
  {
   "cell_type": "code",
   "execution_count": 19,
   "metadata": {
    "collapsed": true
   },
   "outputs": [
    {
     "ename": "AttributeError",
     "evalue": "Cannot access callable attribute 'sort_values' of 'DataFrameGroupBy' objects, try using the 'apply' method",
     "output_type": "error",
     "traceback": [
      "\u001b[1;31m---------------------------------------------------------------------------\u001b[0m",
      "\u001b[1;31mAttributeError\u001b[0m                            Traceback (most recent call last)",
      "\u001b[1;32m<ipython-input-19-9be43521c411>\u001b[0m in \u001b[0;36m<module>\u001b[1;34m()\u001b[0m\n\u001b[1;32m----> 1\u001b[1;33m \u001b[0mdrzava\u001b[0m\u001b[1;33m.\u001b[0m\u001b[0msort_values\u001b[0m\u001b[1;33m(\u001b[0m\u001b[0mby\u001b[0m\u001b[1;33m=\u001b[0m\u001b[1;34m'Rank'\u001b[0m\u001b[1;33m,\u001b[0m \u001b[0mascending\u001b[0m\u001b[1;33m=\u001b[0m\u001b[1;32mFalse\u001b[0m\u001b[1;33m)\u001b[0m\u001b[1;33m\u001b[0m\u001b[0m\n\u001b[0m",
      "\u001b[1;32mD:\\nanaconda\\lib\\site-packages\\pandas\\core\\groupby.py\u001b[0m in \u001b[0;36m__getattr__\u001b[1;34m(self, attr)\u001b[0m\n\u001b[0;32m    546\u001b[0m             \u001b[1;32mreturn\u001b[0m \u001b[0mself\u001b[0m\u001b[1;33m[\u001b[0m\u001b[0mattr\u001b[0m\u001b[1;33m]\u001b[0m\u001b[1;33m\u001b[0m\u001b[0m\n\u001b[0;32m    547\u001b[0m         \u001b[1;32mif\u001b[0m \u001b[0mhasattr\u001b[0m\u001b[1;33m(\u001b[0m\u001b[0mself\u001b[0m\u001b[1;33m.\u001b[0m\u001b[0mobj\u001b[0m\u001b[1;33m,\u001b[0m \u001b[0mattr\u001b[0m\u001b[1;33m)\u001b[0m\u001b[1;33m:\u001b[0m\u001b[1;33m\u001b[0m\u001b[0m\n\u001b[1;32m--> 548\u001b[1;33m             \u001b[1;32mreturn\u001b[0m \u001b[0mself\u001b[0m\u001b[1;33m.\u001b[0m\u001b[0m_make_wrapper\u001b[0m\u001b[1;33m(\u001b[0m\u001b[0mattr\u001b[0m\u001b[1;33m)\u001b[0m\u001b[1;33m\u001b[0m\u001b[0m\n\u001b[0m\u001b[0;32m    549\u001b[0m \u001b[1;33m\u001b[0m\u001b[0m\n\u001b[0;32m    550\u001b[0m         raise AttributeError(\"%r object has no attribute %r\" %\n",
      "\u001b[1;32mD:\\nanaconda\\lib\\site-packages\\pandas\\core\\groupby.py\u001b[0m in \u001b[0;36m_make_wrapper\u001b[1;34m(self, name)\u001b[0m\n\u001b[0;32m    560\u001b[0m                    \"using the 'apply' method\".format(kind, name,\n\u001b[0;32m    561\u001b[0m                                                      type(self).__name__))\n\u001b[1;32m--> 562\u001b[1;33m             \u001b[1;32mraise\u001b[0m \u001b[0mAttributeError\u001b[0m\u001b[1;33m(\u001b[0m\u001b[0mmsg\u001b[0m\u001b[1;33m)\u001b[0m\u001b[1;33m\u001b[0m\u001b[0m\n\u001b[0m\u001b[0;32m    563\u001b[0m \u001b[1;33m\u001b[0m\u001b[0m\n\u001b[0;32m    564\u001b[0m         \u001b[1;31m# need to setup the selection\u001b[0m\u001b[1;33m\u001b[0m\u001b[1;33m\u001b[0m\u001b[0m\n",
      "\u001b[1;31mAttributeError\u001b[0m: Cannot access callable attribute 'sort_values' of 'DataFrameGroupBy' objects, try using the 'apply' method"
     ]
    }
   ],
   "source": [
    "drzava.sort_values(by='Rank', ascending=False)\n",
    "#Pogledamo, katera drzava ima najvec profesionalnih moskih igralcev\n",
    "drz = zapis.groupby('Country')\n",
    "drz = drz.size().sort_values(ascending=False)\n",
    "drz[:10].plot(kind='barh',figsize=(10,60), cmap='Set3',title='prvi')"
   ]
  },
  {
   "cell_type": "code",
   "execution_count": 156,
   "metadata": {
    "collapsed": true
   },
   "outputs": [
    {
     "data": {
      "text/plain": [
       "<matplotlib.axes._subplots.AxesSubplot at 0x14e62550b38>"
      ]
     },
     "execution_count": 156,
     "metadata": {},
     "output_type": "execute_result"
    },
    {
     "data": {
      "image/png": "[encoded data removed]",
      "text/plain": [
       "<matplotlib.figure.Figure at 0x14e62558748>"
      ]
     },
     "metadata": {},
     "output_type": "display_data"
    }
   ],
   "source": [
    "#Pogledamo, katera drzava ima najvec profesionalnih moskih igralcev\n",
    "drz = zapis.groupby('Country').size()\n",
    "drz = drz.sort_values(ascending=False)\n",
    "drz[:10].plot(kind='barh')"
   ]
  },
  {
   "cell_type": "code",
   "execution_count": 180,
   "metadata": {
    "collapsed": true
   },
   "outputs": [
    {
     "data": {
      "text/plain": [
       "Country\n",
       " USA    165\n",
       " FRA    137\n",
       " ITA    123\n",
       " ESP     98\n",
       " GER     95\n",
       " ARG     86\n",
       " RUS     79\n",
       " JPN     72\n",
       " AUS     62\n",
       " GBR     52\n",
       " BRA     50\n",
       " IND     45\n",
       " CZE     41\n",
       " NED     38\n",
       " BEL     37\n",
       " CHN     36\n",
       " SUI     34\n",
       " AUT     34\n",
       " KOR     33\n",
       " ROU     33\n",
       " POL     32\n",
       " UKR     31\n",
       " SRB     29\n",
       " CRO     27\n",
       " SWE     27\n",
       " POR     26\n",
       " SVK     24\n",
       " ISR     24\n",
       " CAN     24\n",
       " TPE     21\n",
       "       ... \n",
       " GEO      4\n",
       " MDA      3\n",
       " KUW      3\n",
       " NOR      3\n",
       " CYP      3\n",
       " SRI      3\n",
       " LUX      3\n",
       " MON      2\n",
       " MNE      2\n",
       " GUA      2\n",
       " BAH      1\n",
       " SGP      1\n",
       " ANT      1\n",
       " BDI      1\n",
       " TKM      1\n",
       " BEN      1\n",
       " SIN      1\n",
       " BAR      1\n",
       " IRI      1\n",
       " QAT      1\n",
       " BRN      1\n",
       " BUR      1\n",
       " PAR      1\n",
       " NMI      1\n",
       " CUB      1\n",
       " ESA      1\n",
       " LIB      1\n",
       " KGZ      1\n",
       " JAM      1\n",
       "          1\n",
       "Length: 98, dtype: int64"
      ]
     },
     "execution_count": 180,
     "metadata": {},
     "output_type": "execute_result"
    }
   ],
   "source": [
    "drz = drz.sort_values(ascending=False)\n",
    "drz"
   ]
  },
  {
   "cell_type": "code",
   "execution_count": 361,
   "metadata": {
    "collapsed": true
   },
   "outputs": [
    {
     "data": {
      "text/plain": [
       "Country\n",
       "ANT      1704.000000\n",
       "ARG      1113.549486\n",
       "AUS      1274.763267\n",
       "AUT      4408.724913\n",
       "BAH       954.000000\n",
       "BAR    172397.000000\n",
       "BDI      2711.000000\n",
       "BEL      3838.804237\n",
       "BEN      2017.000000\n",
       "BIH     35019.916667\n",
       "BLR      1265.289062\n",
       "BOL      2803.437500\n",
       "BRA       548.740400\n",
       "BRN       726.000000\n",
       "BUL     45977.159722\n",
       "BUR       430.000000\n",
       "CAN      5310.012153\n",
       "CHI      1071.110803\n",
       "CHN       251.523920\n",
       "COL      1243.552469\n",
       "CRO     10166.285322\n",
       "CUB       570.000000\n",
       "CYP     54315.777778\n",
       "CZE      1983.531231\n",
       "DEN       336.755102\n",
       "DOM     25511.812500\n",
       "ECU      1508.416667\n",
       "EGY      1680.400000\n",
       "ESA     67250.000000\n",
       "ESP      2926.824448\n",
       "           ...      \n",
       "PAK       241.750000\n",
       "PAR       882.000000\n",
       "PER       532.897959\n",
       "PHI      1120.312500\n",
       "POL       459.226562\n",
       "POR      1817.363905\n",
       "QAT     14231.000000\n",
       "ROU       413.457300\n",
       "RSA     20307.902778\n",
       "RUS       886.542381\n",
       "SGP       726.000000\n",
       "SIN      1038.000000\n",
       "SLO      4217.125000\n",
       "SRB      5828.806183\n",
       "SRI       233.000000\n",
       "SUI     14378.810554\n",
       "SVK      2117.454861\n",
       "SWE       400.109739\n",
       "THA       180.841837\n",
       "TKM      2078.000000\n",
       "TPE      1440.870748\n",
       "TUN     12471.591837\n",
       "TUR       684.025510\n",
       "UKR      1588.569199\n",
       "URU     46374.720000\n",
       "USA       565.081139\n",
       "UZB      9319.580247\n",
       "VEN      1508.625000\n",
       "VIE       897.125000\n",
       "ZIM      1028.480000\n",
       "Length: 97, dtype: float64"
      ]
     },
     "execution_count": 361,
     "metadata": {},
     "output_type": "execute_result"
    }
   ],
   "source": [
    "zasl = vsi_podatki.groupby('Country').mean()\n",
    "#zasl['Earn17'].sort_values(ascending=False)\n",
    "\n",
    "velikost = vsi_podatki.groupby('Country').size()\n",
    "\n",
    "zasl['Earn17']/velikost"
   ]
  },
  {
   "cell_type": "code",
   "execution_count": 145,
   "metadata": {
    "collapsed": true
   },
   "outputs": [
    {
     "data": {
      "text/plain": [
       "Country\n",
       "          1\n",
       " ANT      1\n",
       " ARG     86\n",
       " AUS     62\n",
       " AUT     34\n",
       " BAH      1\n",
       " BAR      1\n",
       " BDI      1\n",
       " BEL     37\n",
       " BEN      1\n",
       " BIH      6\n",
       " BLR     16\n",
       " BOL      4\n",
       " BRA     50\n",
       " BRN      1\n",
       " BUL     12\n",
       " BUR      1\n",
       " CAN     24\n",
       " CHI     19\n",
       " CHN     36\n",
       " COL     18\n",
       " CRO     27\n",
       " CUB      1\n",
       " CYP      3\n",
       " CZE     41\n",
       " DEN      7\n",
       " DOM      4\n",
       " ECU      6\n",
       " EGY     10\n",
       " ESA      1\n",
       "       ... \n",
       " PAK      4\n",
       " PAR      1\n",
       " PER      7\n",
       " PHI      4\n",
       " POL     32\n",
       " POR     26\n",
       " QAT      1\n",
       " ROU     33\n",
       " RSA     12\n",
       " RUS     79\n",
       " SGP      1\n",
       " SIN      1\n",
       " SLO      8\n",
       " SRB     29\n",
       " SRI      3\n",
       " SUI     34\n",
       " SVK     24\n",
       " SWE     27\n",
       " THA     14\n",
       " TKM      1\n",
       " TPE     21\n",
       " TUN      7\n",
       " TUR     14\n",
       " UKR     31\n",
       " URU      5\n",
       " USA    165\n",
       " UZB      9\n",
       " VEN      4\n",
       " VIE      4\n",
       " ZIM      5\n",
       "Name: Rank, Length: 98, dtype: int64"
      ]
     },
     "execution_count": 145,
     "metadata": {},
     "output_type": "execute_result"
    }
   ],
   "source": [
    "#Kater narod pa je najbolj uspesen?\n",
    "uspeh = zapis.groupby('Country')\n",
    "uspeh['Rank'].size()\n",
    "#uspeh['Earn17'].count()"
   ]
  },
  {
   "cell_type": "code",
   "execution_count": 328,
   "metadata": {
    "collapsed": true
   },
   "outputs": [
    {
     "ename": "AttributeError",
     "evalue": "Cannot access callable attribute 'merge' of 'DataFrameGroupBy' objects, try using the 'apply' method",
     "output_type": "error",
     "traceback": [
      "\u001b[1;31m---------------------------------------------------------------------------\u001b[0m",
      "\u001b[1;31mAttributeError\u001b[0m                            Traceback (most recent call last)",
      "\u001b[1;32m<ipython-input-328-1216dd1c57ea>\u001b[0m in \u001b[0;36m<module>\u001b[1;34m()\u001b[0m\n\u001b[0;32m      1\u001b[0m \u001b[0mpla\u001b[0m \u001b[1;33m=\u001b[0m \u001b[0mvsi_podatki\u001b[0m\u001b[1;33m.\u001b[0m\u001b[0mgroupby\u001b[0m\u001b[1;33m(\u001b[0m\u001b[1;34m'Age'\u001b[0m\u001b[1;33m)\u001b[0m\u001b[1;33m\u001b[0m\u001b[0m\n\u001b[0;32m      2\u001b[0m \u001b[1;31m#pla['Earn17'].plot()\u001b[0m\u001b[1;33m\u001b[0m\u001b[1;33m\u001b[0m\u001b[0m\n\u001b[1;32m----> 3\u001b[1;33m \u001b[0mPodatki_Place\u001b[0m \u001b[1;33m=\u001b[0m \u001b[0mpla\u001b[0m\u001b[1;33m.\u001b[0m\u001b[0mmerge\u001b[0m\u001b[1;33m(\u001b[0m\u001b[1;34m'Earn17'\u001b[0m\u001b[1;33m,\u001b[0m \u001b[0mon\u001b[0m \u001b[1;33m=\u001b[0m \u001b[1;34m'Name'\u001b[0m\u001b[1;33m)\u001b[0m\u001b[1;33m\u001b[0m\u001b[0m\n\u001b[0m\u001b[0;32m      4\u001b[0m \u001b[1;31m#plot(x='Age',y='Earn17')\u001b[0m\u001b[1;33m\u001b[0m\u001b[1;33m\u001b[0m\u001b[0m\n\u001b[0;32m      5\u001b[0m \u001b[0mpla\u001b[0m\u001b[1;33m\u001b[0m\u001b[0m\n",
      "\u001b[1;32mD:\\nanaconda\\lib\\site-packages\\pandas\\core\\groupby.py\u001b[0m in \u001b[0;36m__getattr__\u001b[1;34m(self, attr)\u001b[0m\n\u001b[0;32m    546\u001b[0m             \u001b[1;32mreturn\u001b[0m \u001b[0mself\u001b[0m\u001b[1;33m[\u001b[0m\u001b[0mattr\u001b[0m\u001b[1;33m]\u001b[0m\u001b[1;33m\u001b[0m\u001b[0m\n\u001b[0;32m    547\u001b[0m         \u001b[1;32mif\u001b[0m \u001b[0mhasattr\u001b[0m\u001b[1;33m(\u001b[0m\u001b[0mself\u001b[0m\u001b[1;33m.\u001b[0m\u001b[0mobj\u001b[0m\u001b[1;33m,\u001b[0m \u001b[0mattr\u001b[0m\u001b[1;33m)\u001b[0m\u001b[1;33m:\u001b[0m\u001b[1;33m\u001b[0m\u001b[0m\n\u001b[1;32m--> 548\u001b[1;33m             \u001b[1;32mreturn\u001b[0m \u001b[0mself\u001b[0m\u001b[1;33m.\u001b[0m\u001b[0m_make_wrapper\u001b[0m\u001b[1;33m(\u001b[0m\u001b[0mattr\u001b[0m\u001b[1;33m)\u001b[0m\u001b[1;33m\u001b[0m\u001b[0m\n\u001b[0m\u001b[0;32m    549\u001b[0m \u001b[1;33m\u001b[0m\u001b[0m\n\u001b[0;32m    550\u001b[0m         raise AttributeError(\"%r object has no attribute %r\" %\n",
      "\u001b[1;32mD:\\nanaconda\\lib\\site-packages\\pandas\\core\\groupby.py\u001b[0m in \u001b[0;36m_make_wrapper\u001b[1;34m(self, name)\u001b[0m\n\u001b[0;32m    560\u001b[0m                    \"using the 'apply' method\".format(kind, name,\n\u001b[0;32m    561\u001b[0m                                                      type(self).__name__))\n\u001b[1;32m--> 562\u001b[1;33m             \u001b[1;32mraise\u001b[0m \u001b[0mAttributeError\u001b[0m\u001b[1;33m(\u001b[0m\u001b[0mmsg\u001b[0m\u001b[1;33m)\u001b[0m\u001b[1;33m\u001b[0m\u001b[0m\n\u001b[0m\u001b[0;32m    563\u001b[0m \u001b[1;33m\u001b[0m\u001b[0m\n\u001b[0;32m    564\u001b[0m         \u001b[1;31m# need to setup the selection\u001b[0m\u001b[1;33m\u001b[0m\u001b[1;33m\u001b[0m\u001b[0m\n",
      "\u001b[1;31mAttributeError\u001b[0m: Cannot access callable attribute 'merge' of 'DataFrameGroupBy' objects, try using the 'apply' method"
     ]
    }
   ],
   "source": [
    "pla = vsi_podatki.groupby('Age')\n",
    "#pla['Earn17'].plot()\n",
    "Podatki_Place = vsi_podatki.merge('Earn17', on = 'Name')\n",
    "#plot(x='Age',y='Earn17')\n",
    "pla"
   ]
  },
  {
   "cell_type": "code",
   "execution_count": 412,
   "metadata": {
    "collapsed": true
   },
   "outputs": [
    {
     "data": {
      "text/plain": [
       "RafaelNadal               6\n",
       "RogerFederer              8\n",
       "GrigorDimitrov            5\n",
       "AlexanderZverev           4\n",
       "DominicThiem              9\n",
       "MarinCilic                9\n",
       "DavidGoffin              12\n",
       "JackSock                  9\n",
       "StanWawrinka              3\n",
       "PabloCarrenoBusta         7\n",
       "JuanMartindelPotro        9\n",
       "NovakDjokovic             5\n",
       "SamQuerrey               10\n",
       "KevinAnderson             5\n",
       "Jo-WilfriedTsonga         4\n",
       "AndyMurray                5\n",
       "JohnIsner                 4\n",
       "LucasPouille              2\n",
       "TomasBerdych              9\n",
       "RobertoBautistaAgut       4\n",
       "NickKyrgios               4\n",
       "KeiNishikori             12\n",
       "AlbertRamos-Vinolas       1\n",
       "MilosRaonic              12\n",
       "GillesMuller              5\n",
       "DiegoSchwartzman          8\n",
       "FabioFognini              5\n",
       "AdrianMannarino           6\n",
       "PhilippKohlschreiber     10\n",
       "DamirDzumhur              5\n",
       "                         ..\n",
       "KazukiNishiwaki          10\n",
       "XiQi                      8\n",
       "RiccardoRoberto          10\n",
       "OllySadler               10\n",
       "ChristofferSolberg        2\n",
       "IsaacStoute               4\n",
       "CliffordEnosoregbe       10\n",
       "WashiGervais              4\n",
       "DominikLangmajer          8\n",
       "PatrickMayer              1\n",
       "MatveyMinin               6\n",
       "FrancoRibero              9\n",
       "Li-WieTan                 9\n",
       "GianlucaAcquaroli        10\n",
       "VasishtCheruku            6\n",
       "SylvesterEmmanuel         4\n",
       "StamatisKapiris           6\n",
       "PhongsapakKerdlaphee      5\n",
       "LucasVuradin              1\n",
       "HaoWu                     2\n",
       "GlebAlekseenko            5\n",
       "DavidJuras               11\n",
       "PatrikObal                6\n",
       "AgustinSuarezGonzalez     4\n",
       "FrancoCapalbo            12\n",
       "BartStevens               1\n",
       "BorisButulija             1\n",
       "MilosNikolic             12\n",
       "KeisukeNumajiri           9\n",
       "IsaMammetgulyyev          1\n",
       "Name: Birthday, Length: 1971, dtype: int64"
      ]
     },
     "execution_count": 412,
     "metadata": {},
     "output_type": "execute_result"
    }
   ],
   "source": [
    "meseci = vsi_podatki.Birthday.dt.month\n",
    "meseci"
   ]
  },
  {
   "cell_type": "code",
   "execution_count": 392,
   "metadata": {
    "scrolled": true
   },
   "outputs": [
    {
     "data": {
      "text/plain": [
       "4"
      ]
     },
     "execution_count": 392,
     "metadata": {},
     "output_type": "execute_result"
    }
   ],
   "source": [
    "zmag = vsi_podatki.groupby('Career_high')\n",
    "zmag['Birthday'].count()[1]"
   ]
  },
  {
   "cell_type": "code",
   "execution_count": 428,
   "metadata": {},
   "outputs": [
    {
     "data": {
      "text/plain": [
       "<matplotlib.axes._subplots.AxesSubplot at 0x14e675763c8>"
      ]
     },
     "execution_count": 428,
     "metadata": {},
     "output_type": "execute_result"
    },
    {
     "data": {
      "image/png": "[encoded data removed]",
      "text/plain": [
       "<matplotlib.figure.Figure at 0x14e67517f60>"
      ]
     },
     "metadata": {},
     "output_type": "display_data"
    }
   ],
   "source": [
    "mesec = meseci.groupby(by=vsi_podatki.Birthday.dt.month).size()\n",
    "mesec.plot(kind='line')"
   ]
  },
  {
   "cell_type": "code",
   "execution_count": null,
   "metadata": {},
   "outputs": [],
   "source": []
  }
 ],
 "metadata": {
  "kernelspec": {
   "display_name": "Python 3",
   "language": "python",
   "name": "python3"
  },
  "language_info": {
   "codemirror_mode": {
    "name": "ipython",
    "version": 3
   },
   "file_extension": ".py",
   "mimetype": "text/x-python",
   "name": "python",
   "nbconvert_exporter": "python",
   "pygments_lexer": "ipython3",
   "version": "3.6.3"
  }
 },
 "nbformat": 4,
 "nbformat_minor": 2
}
