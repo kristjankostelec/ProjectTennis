{
 "cells": [
  {
   "cell_type": "markdown",
   "metadata": {},
   "source": [
    "# LESTVICA ATP\n",
    "\n",
    "Projekt pri  predmetu Programiranje 1.\n",
    "\n",
    "Pozdravljeni,\n",
    "\n",
    "v projektni nalogi si bomo ogledali profesionalne tenisače, podatki o katerih so bili zbrani z uradne strani ATP.\n",
    "\n",
    "Spodaj so, za lažjo navigacijo po nalogi, navedene analize, izvedene na pobranih podatkih:\n",
    "\n",
    "    - starost igralcev, pri kateri so povprečno najbolj uspešni\n",
    "    - vsi igralci, ki so dosegli rank 1\n",
    "    - najbolj zastopane države in ali so le-te tudi povezane z visokimi uvrstitvami\n",
    "    - pogostost mesecev rojstva vseh igralcev\n",
    "    - kako višina in teža vplivata na število osvojenih turnirjev\n",
    "    - kdo je imel glede na razmerje zmag in porazov lansko sezono najbolj uspešno\n",
    "    - procent denarja, ki ga zaslužijo deseterice igralcev\n",
    "    - korelacija med osvojenimi turnirji in zaslužki"
   ]
  },
  {
   "cell_type": "code",
   "execution_count": 1,
   "metadata": {},
   "outputs": [],
   "source": [
    "import pandas as pd\n",
    "\n",
    "import matplotlib\n",
    "\n",
    "#izrisujemo rezultate\n",
    "%matplotlib inline \n",
    "\n",
    "import numpy as np\n",
    "import math\n",
    "\n",
    "from matplotlib import pyplot as plot"
   ]
  },
  {
   "cell_type": "code",
   "execution_count": 2,
   "metadata": {},
   "outputs": [
    {
     "data": {
      "text/html": [
       "<div>\n",
       "<style>\n",
       "    .dataframe thead tr:only-child th {\n",
       "        text-align: right;\n",
       "    }\n",
       "\n",
       "    .dataframe thead th {\n",
       "        text-align: left;\n",
       "    }\n",
       "\n",
       "    .dataframe tbody tr th {\n",
       "        vertical-align: top;\n",
       "    }\n",
       "</style>\n",
       "<table border=\"1\" class=\"dataframe\">\n",
       "  <thead>\n",
       "    <tr style=\"text-align: right;\">\n",
       "      <th></th>\n",
       "      <th>Rank</th>\n",
       "      <th>Country</th>\n",
       "      <th>Age</th>\n",
       "      <th>Birthday</th>\n",
       "      <th>Weight</th>\n",
       "      <th>Height</th>\n",
       "      <th>WL_17</th>\n",
       "      <th>T17</th>\n",
       "      <th>Earn17</th>\n",
       "      <th>Career_high</th>\n",
       "      <th>WL_career</th>\n",
       "      <th>T_career</th>\n",
       "      <th>Earn_career</th>\n",
       "    </tr>\n",
       "  </thead>\n",
       "  <tbody>\n",
       "    <tr>\n",
       "      <th>RafaelNadal</th>\n",
       "      <td>1</td>\n",
       "      <td>ESP</td>\n",
       "      <td>31</td>\n",
       "      <td>1986-06-03</td>\n",
       "      <td>85.0</td>\n",
       "      <td>185.0</td>\n",
       "      <td>67-11</td>\n",
       "      <td>6</td>\n",
       "      <td>15851340</td>\n",
       "      <td>1</td>\n",
       "      <td>873-185</td>\n",
       "      <td>75</td>\n",
       "      <td>94588627</td>\n",
       "    </tr>\n",
       "    <tr>\n",
       "      <th>RogerFederer</th>\n",
       "      <td>2</td>\n",
       "      <td>SUI</td>\n",
       "      <td>36</td>\n",
       "      <td>1981-08-08</td>\n",
       "      <td>85.0</td>\n",
       "      <td>185.0</td>\n",
       "      <td>52-5</td>\n",
       "      <td>7</td>\n",
       "      <td>13054856</td>\n",
       "      <td>1</td>\n",
       "      <td>1132-250</td>\n",
       "      <td>95</td>\n",
       "      <td>111885682</td>\n",
       "    </tr>\n",
       "    <tr>\n",
       "      <th>GrigorDimitrov</th>\n",
       "      <td>3</td>\n",
       "      <td>BUL</td>\n",
       "      <td>26</td>\n",
       "      <td>1991-05-16</td>\n",
       "      <td>80.0</td>\n",
       "      <td>191.0</td>\n",
       "      <td>49-19</td>\n",
       "      <td>4</td>\n",
       "      <td>6575244</td>\n",
       "      <td>3</td>\n",
       "      <td>257-161</td>\n",
       "      <td>8</td>\n",
       "      <td>14083976</td>\n",
       "    </tr>\n",
       "    <tr>\n",
       "      <th>AlexanderZverev</th>\n",
       "      <td>4</td>\n",
       "      <td>GER</td>\n",
       "      <td>20</td>\n",
       "      <td>1997-04-20</td>\n",
       "      <td>86.0</td>\n",
       "      <td>198.0</td>\n",
       "      <td>55-22</td>\n",
       "      <td>5</td>\n",
       "      <td>5006313</td>\n",
       "      <td>3</td>\n",
       "      <td>117-70</td>\n",
       "      <td>6</td>\n",
       "      <td>7041628</td>\n",
       "    </tr>\n",
       "    <tr>\n",
       "      <th>DominicThiem</th>\n",
       "      <td>5</td>\n",
       "      <td>AUT</td>\n",
       "      <td>24</td>\n",
       "      <td>1993-09-03</td>\n",
       "      <td>82.0</td>\n",
       "      <td>185.0</td>\n",
       "      <td>49-27</td>\n",
       "      <td>1</td>\n",
       "      <td>4283907</td>\n",
       "      <td>4</td>\n",
       "      <td>171-109</td>\n",
       "      <td>8</td>\n",
       "      <td>9507497</td>\n",
       "    </tr>\n",
       "    <tr>\n",
       "      <th>MarinCilic</th>\n",
       "      <td>6</td>\n",
       "      <td>CRO</td>\n",
       "      <td>29</td>\n",
       "      <td>1988-09-28</td>\n",
       "      <td>89.0</td>\n",
       "      <td>198.0</td>\n",
       "      <td>44-22</td>\n",
       "      <td>1</td>\n",
       "      <td>4004923</td>\n",
       "      <td>4</td>\n",
       "      <td>435-232</td>\n",
       "      <td>17</td>\n",
       "      <td>20919276</td>\n",
       "    </tr>\n",
       "    <tr>\n",
       "      <th>DavidGoffin</th>\n",
       "      <td>7</td>\n",
       "      <td>BEL</td>\n",
       "      <td>27</td>\n",
       "      <td>1990-12-07</td>\n",
       "      <td>68.0</td>\n",
       "      <td>180.0</td>\n",
       "      <td>59-24</td>\n",
       "      <td>2</td>\n",
       "      <td>3890613</td>\n",
       "      <td>7</td>\n",
       "      <td>201-128</td>\n",
       "      <td>4</td>\n",
       "      <td>8995195</td>\n",
       "    </tr>\n",
       "    <tr>\n",
       "      <th>JackSock</th>\n",
       "      <td>8</td>\n",
       "      <td>USA</td>\n",
       "      <td>25</td>\n",
       "      <td>1992-09-24</td>\n",
       "      <td>84.0</td>\n",
       "      <td>191.0</td>\n",
       "      <td>38-21</td>\n",
       "      <td>3</td>\n",
       "      <td>3149419</td>\n",
       "      <td>8</td>\n",
       "      <td>153-103</td>\n",
       "      <td>4</td>\n",
       "      <td>8171779</td>\n",
       "    </tr>\n",
       "    <tr>\n",
       "      <th>StanWawrinka</th>\n",
       "      <td>9</td>\n",
       "      <td>SUI</td>\n",
       "      <td>32</td>\n",
       "      <td>1985-03-28</td>\n",
       "      <td>81.0</td>\n",
       "      <td>183.0</td>\n",
       "      <td>26-11</td>\n",
       "      <td>1</td>\n",
       "      <td>3083829</td>\n",
       "      <td>3</td>\n",
       "      <td>465-262</td>\n",
       "      <td>16</td>\n",
       "      <td>30905144</td>\n",
       "    </tr>\n",
       "    <tr>\n",
       "      <th>PabloCarrenoBusta</th>\n",
       "      <td>10</td>\n",
       "      <td>ESP</td>\n",
       "      <td>26</td>\n",
       "      <td>1991-07-12</td>\n",
       "      <td>78.0</td>\n",
       "      <td>188.0</td>\n",
       "      <td>36-26</td>\n",
       "      <td>1</td>\n",
       "      <td>2843305</td>\n",
       "      <td>10</td>\n",
       "      <td>111-110</td>\n",
       "      <td>3</td>\n",
       "      <td>5746293</td>\n",
       "    </tr>\n",
       "  </tbody>\n",
       "</table>\n",
       "</div>"
      ],
      "text/plain": [
       "                   Rank Country  Age   Birthday  Weight  Height  WL_17  T17  \\\n",
       "RafaelNadal           1     ESP   31 1986-06-03    85.0   185.0  67-11    6   \n",
       "RogerFederer          2     SUI   36 1981-08-08    85.0   185.0   52-5    7   \n",
       "GrigorDimitrov        3     BUL   26 1991-05-16    80.0   191.0  49-19    4   \n",
       "AlexanderZverev       4     GER   20 1997-04-20    86.0   198.0  55-22    5   \n",
       "DominicThiem          5     AUT   24 1993-09-03    82.0   185.0  49-27    1   \n",
       "MarinCilic            6     CRO   29 1988-09-28    89.0   198.0  44-22    1   \n",
       "DavidGoffin           7     BEL   27 1990-12-07    68.0   180.0  59-24    2   \n",
       "JackSock              8     USA   25 1992-09-24    84.0   191.0  38-21    3   \n",
       "StanWawrinka          9     SUI   32 1985-03-28    81.0   183.0  26-11    1   \n",
       "PabloCarrenoBusta    10     ESP   26 1991-07-12    78.0   188.0  36-26    1   \n",
       "\n",
       "                     Earn17  Career_high WL_career  T_career  Earn_career  \n",
       "RafaelNadal        15851340            1   873-185        75     94588627  \n",
       "RogerFederer       13054856            1  1132-250        95    111885682  \n",
       "GrigorDimitrov      6575244            3   257-161         8     14083976  \n",
       "AlexanderZverev     5006313            3    117-70         6      7041628  \n",
       "DominicThiem        4283907            4   171-109         8      9507497  \n",
       "MarinCilic          4004923            4   435-232        17     20919276  \n",
       "DavidGoffin         3890613            7   201-128         4      8995195  \n",
       "JackSock            3149419            8   153-103         4      8171779  \n",
       "StanWawrinka        3083829            3   465-262        16     30905144  \n",
       "PabloCarrenoBusta   2843305           10   111-110         3      5746293  "
      ]
     },
     "execution_count": 2,
     "metadata": {},
     "output_type": "execute_result"
    }
   ],
   "source": [
    "#uvozimo vse podatke, ki smo jih dobili na spletni strani ATP\n",
    "vsi_podatki = pd.read_csv('podatki.csv', encoding = \"utf-8\", sep=';',thousands=\",\")\n",
    "\n",
    "#popravimo rojstne dneve, da lahko kasneje dostopamo do leta, meseca in dneva rojstva\n",
    "vsi_podatki['Birthday'] = pd.to_datetime(vsi_podatki['Birthday'], format=\"%Y.%m.%d\")\n",
    "\n",
    "#podatki nekaj igralcev, da vidimo, s čim se ukvarjamo\n",
    "vsi_podatki[:10]"
   ]
  },
  {
   "cell_type": "code",
   "execution_count": 3,
   "metadata": {},
   "outputs": [
    {
     "data": {
      "text/plain": [
       "Rank                             2\n",
       "Country                        SUI\n",
       "Age                             36\n",
       "Birthday       1981-08-08 00:00:00\n",
       "Weight                          85\n",
       "Height                         185\n",
       "WL_17                         52-5\n",
       "T17                              7\n",
       "Earn17                    13054856\n",
       "Career_high                      1\n",
       "WL_career                 1132-250\n",
       "T_career                        95\n",
       "Earn_career              111885682\n",
       "Name: RogerFederer, dtype: object"
      ]
     },
     "execution_count": 3,
     "metadata": {},
     "output_type": "execute_result"
    }
   ],
   "source": [
    "#zapis podatkov enega igralca\n",
    "vsi_podatki.iloc[1]"
   ]
  },
  {
   "cell_type": "code",
   "execution_count": 4,
   "metadata": {},
   "outputs": [
    {
     "data": {
      "text/plain": [
       "Age\n",
       "31    116.923077\n",
       "29    149.818182\n",
       "32    163.117647\n",
       "30    178.000000\n",
       "25    193.567568\n",
       "22    195.190476\n",
       "27    195.627907\n",
       "28    220.076923\n",
       "20    228.391304\n",
       "21    232.187500\n",
       "23    235.347826\n",
       "26    237.777778\n",
       "24    244.178571\n",
       "19    251.933333\n",
       "Name: Rank, dtype: float64"
      ]
     },
     "execution_count": 4,
     "metadata": {},
     "output_type": "execute_result"
    }
   ],
   "source": [
    "podatki = vsi_podatki[:400]\n",
    "pogosta_starost = podatki.groupby('Age').count()\n",
    "pogosta_starost = pogosta_starost.loc[pogosta_starost['Rank']>12].index\n",
    "starost = podatki[podatki['Age'].isin(pogosta_starost)].groupby('Age')['Rank'].mean().sort_values()\n",
    "\n",
    "starost"
   ]
  },
  {
   "cell_type": "markdown",
   "metadata": {},
   "source": [
    "Med top 400 igralci so povprecno najvišje uvrščeni igralci, ki so stari 31 let."
   ]
  },
  {
   "cell_type": "code",
   "execution_count": 5,
   "metadata": {
    "scrolled": false
   },
   "outputs": [
    {
     "data": {
      "text/html": [
       "<div>\n",
       "<style>\n",
       "    .dataframe thead tr:only-child th {\n",
       "        text-align: right;\n",
       "    }\n",
       "\n",
       "    .dataframe thead th {\n",
       "        text-align: left;\n",
       "    }\n",
       "\n",
       "    .dataframe tbody tr th {\n",
       "        vertical-align: top;\n",
       "    }\n",
       "</style>\n",
       "<table border=\"1\" class=\"dataframe\">\n",
       "  <thead>\n",
       "    <tr style=\"text-align: right;\">\n",
       "      <th></th>\n",
       "      <th>Rank</th>\n",
       "      <th>Country</th>\n",
       "      <th>Age</th>\n",
       "      <th>Birthday</th>\n",
       "      <th>Weight</th>\n",
       "      <th>Height</th>\n",
       "      <th>WL_17</th>\n",
       "      <th>T17</th>\n",
       "      <th>Earn17</th>\n",
       "      <th>Career_high</th>\n",
       "      <th>WL_career</th>\n",
       "      <th>T_career</th>\n",
       "      <th>Earn_career</th>\n",
       "    </tr>\n",
       "  </thead>\n",
       "  <tbody>\n",
       "    <tr>\n",
       "      <th>RafaelNadal</th>\n",
       "      <td>1</td>\n",
       "      <td>ESP</td>\n",
       "      <td>31</td>\n",
       "      <td>1986-06-03</td>\n",
       "      <td>85.0</td>\n",
       "      <td>185.0</td>\n",
       "      <td>67-11</td>\n",
       "      <td>6</td>\n",
       "      <td>15851340</td>\n",
       "      <td>1</td>\n",
       "      <td>873-185</td>\n",
       "      <td>75</td>\n",
       "      <td>94588627</td>\n",
       "    </tr>\n",
       "    <tr>\n",
       "      <th>RogerFederer</th>\n",
       "      <td>2</td>\n",
       "      <td>SUI</td>\n",
       "      <td>36</td>\n",
       "      <td>1981-08-08</td>\n",
       "      <td>85.0</td>\n",
       "      <td>185.0</td>\n",
       "      <td>52-5</td>\n",
       "      <td>7</td>\n",
       "      <td>13054856</td>\n",
       "      <td>1</td>\n",
       "      <td>1132-250</td>\n",
       "      <td>95</td>\n",
       "      <td>111885682</td>\n",
       "    </tr>\n",
       "    <tr>\n",
       "      <th>NovakDjokovic</th>\n",
       "      <td>12</td>\n",
       "      <td>SRB</td>\n",
       "      <td>30</td>\n",
       "      <td>1987-05-22</td>\n",
       "      <td>77.0</td>\n",
       "      <td>188.0</td>\n",
       "      <td>32-8</td>\n",
       "      <td>2</td>\n",
       "      <td>2083741</td>\n",
       "      <td>1</td>\n",
       "      <td>783-163</td>\n",
       "      <td>68</td>\n",
       "      <td>109805403</td>\n",
       "    </tr>\n",
       "    <tr>\n",
       "      <th>AndyMurray</th>\n",
       "      <td>16</td>\n",
       "      <td>GBR</td>\n",
       "      <td>30</td>\n",
       "      <td>1987-05-15</td>\n",
       "      <td>84.0</td>\n",
       "      <td>191.0</td>\n",
       "      <td>25-10</td>\n",
       "      <td>1</td>\n",
       "      <td>2071625</td>\n",
       "      <td>1</td>\n",
       "      <td>655-184</td>\n",
       "      <td>45</td>\n",
       "      <td>60807644</td>\n",
       "    </tr>\n",
       "  </tbody>\n",
       "</table>\n",
       "</div>"
      ],
      "text/plain": [
       "               Rank Country  Age   Birthday  Weight  Height  WL_17  T17  \\\n",
       "RafaelNadal       1     ESP   31 1986-06-03    85.0   185.0  67-11    6   \n",
       "RogerFederer      2     SUI   36 1981-08-08    85.0   185.0   52-5    7   \n",
       "NovakDjokovic    12     SRB   30 1987-05-22    77.0   188.0   32-8    2   \n",
       "AndyMurray       16     GBR   30 1987-05-15    84.0   191.0  25-10    1   \n",
       "\n",
       "                 Earn17  Career_high WL_career  T_career  Earn_career  \n",
       "RafaelNadal    15851340            1   873-185        75     94588627  \n",
       "RogerFederer   13054856            1  1132-250        95    111885682  \n",
       "NovakDjokovic   2083741            1   783-163        68    109805403  \n",
       "AndyMurray      2071625            1   655-184        45     60807644  "
      ]
     },
     "execution_count": 5,
     "metadata": {},
     "output_type": "execute_result"
    }
   ],
   "source": [
    "high = vsi_podatki.groupby('Career_high')\n",
    "high.get_group(1)"
   ]
  },
  {
   "cell_type": "markdown",
   "metadata": {},
   "source": [
    "Od trenutno aktivnih igralcev so le zgornji 4 v svoji karieri zasedli 1. mesto na lestvici."
   ]
  },
  {
   "cell_type": "code",
   "execution_count": 6,
   "metadata": {},
   "outputs": [
    {
     "name": "stdout",
     "output_type": "stream",
     "text": [
      "8\n"
     ]
    },
    {
     "data": {
      "image/png": "[encoded data removed]",
      "text/plain": [
       "<matplotlib.figure.Figure at 0x276c68b44a8>"
      ]
     },
     "metadata": {},
     "output_type": "display_data"
    }
   ],
   "source": [
    "#Pogledamo, katera država ima najvec profesionalnih moskih igralcev ter koliko med njimi je Slovencev\n",
    "drz = vsi_podatki.groupby('Country').size()\n",
    "drz = drz.sort_values(ascending=False)\n",
    "drz[:10].plot(kind='barh')\n",
    "print(drz['SLO'])"
   ]
  },
  {
   "cell_type": "markdown",
   "metadata": {},
   "source": [
    "Največ profesionalnih tenisacev prihaja iz Združenih držav Amerike, medtem ko je profesionalnih Slovencev 8."
   ]
  },
  {
   "cell_type": "code",
   "execution_count": 7,
   "metadata": {},
   "outputs": [
    {
     "data": {
      "text/plain": [
       "Country\n",
       "ESP     1\n",
       "GER     4\n",
       "USA     8\n",
       "ARG    11\n",
       "FRA    15\n",
       "GBR    16\n",
       "AUS    21\n",
       "JPN    22\n",
       "ITA    27\n",
       "RUS    39\n",
       "Name: Rank, dtype: int64"
      ]
     },
     "execution_count": 7,
     "metadata": {},
     "output_type": "execute_result"
    }
   ],
   "source": [
    "drzave = drz[:10].index\n",
    "rank = vsi_podatki[vsi_podatki['Country'].isin(drzave)].groupby('Country')['Rank'].min().sort_values()\n",
    "rank"
   ]
  },
  {
   "cell_type": "markdown",
   "metadata": {},
   "source": [
    "Največje število igralcev ne zagotavlja najboljših, saj je najboljši Američan šele na 8. mestu, medtem ko imajo Španci (4. najbolj pogost narod) najboljšega igralca."
   ]
  },
  {
   "cell_type": "code",
   "execution_count": 8,
   "metadata": {},
   "outputs": [
    {
     "data": {
      "text/plain": [
       "221"
      ]
     },
     "execution_count": 8,
     "metadata": {},
     "output_type": "execute_result"
    }
   ],
   "source": [
    "vsi_podatki[vsi_podatki['Career_high'] <= 100]['Rank'].count()"
   ]
  },
  {
   "cell_type": "markdown",
   "metadata": {},
   "source": [
    "Od trenutno aktivnih jih je 221 že bilo nekoč uvrščenih med top 100."
   ]
  },
  {
   "cell_type": "code",
   "execution_count": 10,
   "metadata": {},
   "outputs": [
    {
     "data": {
      "text/plain": [
       "<matplotlib.figure.Figure at 0x276c69f1668>"
      ]
     },
     "metadata": {},
     "output_type": "display_data"
    },
    {
     "data": {
      "image/png": "[encoded data removed]",
      "text/plain": [
       "<matplotlib.figure.Figure at 0x276c6a01128>"
      ]
     },
     "metadata": {},
     "output_type": "display_data"
    },
    {
     "data": {
      "text/plain": [
       "<matplotlib.figure.Figure at 0x276c6c24780>"
      ]
     },
     "metadata": {},
     "output_type": "display_data"
    }
   ],
   "source": [
    "y1 = vsi_podatki.Birthday.dt.month.groupby(by=vsi_podatki.Birthday.dt.month).size()\n",
    "y2 = vsi_podatki[:400].Birthday.dt.month.groupby(by=vsi_podatki[:400].Birthday.dt.month).size()\n",
    "\n",
    "plot.figure()\n",
    "f, axes = plot.subplots(1, 2)\n",
    "axes[0].set_title('Rojstni mesec')\n",
    "axes[0].plot(y1)\n",
    "\n",
    "fig_size = plot.rcParams[\"figure.figsize\"]\n",
    "fig_size[0] = 15\n",
    "fig_size[1] = 5\n",
    "\n",
    "plot.figure()\n",
    "axes[1].set_title('Rojstni mesec top 400')\n",
    "axes[1].plot(y2)\n",
    "\n",
    "plot.tight_layout()"
   ]
  },
  {
   "cell_type": "markdown",
   "metadata": {},
   "source": [
    "Med preofesionalnimi tenisači je viden skok v številu rojstnih dni januarja, aprila in maja, medtem ko jih je rojenih v novembru in decembru občutno manj.\n",
    "Ta trend je opazen tako na celotnem vzorcu (levo), kot tudi med top 400, kjer je vzorec kvečjemu še bolj izrazit.\n",
    "Zanimiv pojav, katerega ena razlaga je podana izčrpeno v knjigi Malcom Gladwela - Prebojniki.\n"
   ]
  },
  {
   "cell_type": "code",
   "execution_count": 74,
   "metadata": {},
   "outputs": [
    {
     "data": {
      "text/plain": [
       "<matplotlib.axes._subplots.AxesSubplot at 0x2015939f128>"
      ]
     },
     "execution_count": 74,
     "metadata": {},
     "output_type": "execute_result"
    },
    {
     "data": {
      "image/png": "[encoded data removed]",
      "text/plain": [
       "<matplotlib.figure.Figure at 0x2015938cf60>"
      ]
     },
     "metadata": {},
     "output_type": "display_data"
    },
    {
     "data": {
      "image/png": "[encoded data removed]",
      "text/plain": [
       "<matplotlib.figure.Figure at 0x2015963a7f0>"
      ]
     },
     "metadata": {},
     "output_type": "display_data"
    }
   ],
   "source": [
    "vsi_podatki[vsi_podatki['T_career'] > 0].plot(x = 'Weight', y = 'T_career', kind='scatter',figsize = (15,3))\n",
    "vsi_podatki[vsi_podatki['T_career'] > 0].plot(x = 'Height', y = 'T_career', kind='scatter',figsize = (15,3))\n"
   ]
  },
  {
   "cell_type": "markdown",
   "metadata": {},
   "source": [
    "Zgoščina igralcev z največ osvojenimi turnirjev je okoli 85kg in nekje med 180 in 195cm. Če želite osvajati teniške turnirje, bodite visoki 187cm in tehtajte 85kg."
   ]
  },
  {
   "cell_type": "code",
   "execution_count": 11,
   "metadata": {
    "scrolled": true
   },
   "outputs": [
    {
     "name": "stderr",
     "output_type": "stream",
     "text": [
      "D:\\nanaconda\\lib\\site-packages\\ipykernel_launcher.py:3: FutureWarning: currently extract(expand=None) means expand=False (return Index/Series/DataFrame) but in a future version of pandas this will be changed to expand=True (return DataFrame)\n",
      "  This is separate from the ipykernel package so we can avoid doing imports until\n",
      "D:\\nanaconda\\lib\\site-packages\\ipykernel_launcher.py:4: FutureWarning: currently extract(expand=None) means expand=False (return Index/Series/DataFrame) but in a future version of pandas this will be changed to expand=True (return DataFrame)\n",
      "  after removing the cwd from sys.path.\n"
     ]
    },
    {
     "data": {
      "text/plain": [
       "RogerFederer          2.296820\n",
       "RubenBemelmans        2.236364\n",
       "MatthewEbden          2.204082\n",
       "TommyPaul             1.928571\n",
       "JonathanEysseric      1.777778\n",
       "YuichiSugita          1.762821\n",
       "GeraldMelzer          1.750000\n",
       "RamkumarRamanathan    1.733333\n",
       "YukiBhambri           1.727273\n",
       "BrianBaker            1.650000\n",
       "dtype: float64"
      ]
     },
     "execution_count": 11,
     "metadata": {},
     "output_type": "execute_result"
    }
   ],
   "source": [
    "#Poglejmo, za koga je bila sezona 2017 nadpovprecna, glede na razmerje zmag\n",
    "\n",
    "zmage17 = vsi_podatki['WL_17'].str.extract('(\\d+)\\-(\\d+)').astype(int)\n",
    "zmage = vsi_podatki['WL_career'].str.extract('(\\d+)\\-(\\d+)').astype(int)\n",
    "\n",
    "zmage17 = zmage17[(zmage17[0] > 5) & (zmage17[1] > 0)]\n",
    "zmage = zmage[(zmage[0] > 5) & (zmage[1] > 0)]\n",
    "\n",
    "razmerje17 = zmage17[0] / zmage17[1]\n",
    "razmerje = zmage[0] / zmage[1]\n",
    "\n",
    "sezona17 = razmerje17 / razmerje\n",
    "sezona17 = sezona17[sezona17 == sezona17].sort_values(ascending=False)\n",
    "\n",
    "sezona17[:10]"
   ]
  },
  {
   "cell_type": "markdown",
   "metadata": {},
   "source": [
    "Pogledali smo samo igralce, ki so v sezoni 2017 dosegli vsaj 5 zmag (torej so bili 'aktivni'), ter pogledali razmerje med razmerjem zmag v sezoni in celotno kariero. Ugotovili smo, da je bil, na podlagi tega kriterija, najbolj uspešen Roger Federer."
   ]
  },
  {
   "cell_type": "code",
   "execution_count": 13,
   "metadata": {},
   "outputs": [
    {
     "data": {
      "text/plain": [
       "{'0': 25.52,\n",
       " '10': 10.16,\n",
       " '20': 6.7,\n",
       " '30': 5.3,\n",
       " '40': 4.72,\n",
       " '50': 3.68,\n",
       " '60': 2.91,\n",
       " '70': 2.42,\n",
       " '80': 1.86,\n",
       " '90': 1.67}"
      ]
     },
     "execution_count": 13,
     "metadata": {},
     "output_type": "execute_result"
    },
    {
     "data": {
      "image/png": "[encoded data removed]",
      "text/plain": [
       "<matplotlib.figure.Figure at 0x276c6c09278>"
      ]
     },
     "metadata": {},
     "output_type": "display_data"
    }
   ],
   "source": [
    "vsi_zasluzki = vsi_podatki['Earn17'].sum()\n",
    "desetke = {}\n",
    "procenti = {}\n",
    "\n",
    "for i in range (0,40):\n",
    "    desetke['{}'.format(10*i)] = vsi_podatki[10*i+1:10*(i+1)]['Earn17'].sum()\n",
    "    \n",
    "for i in range (0,10):\n",
    "    ime = '{}'.format(10*i)\n",
    "    procenti[ime] = round(((desetke[ime] / vsi_zasluzki) * 100),2)\n",
    "\n",
    "graf = plot.bar(range(len(procenti)), list(procenti.values()))\n",
    "plot.xticks(range(len(procenti)), list(procenti.keys()))\n",
    "\n",
    "procenti"
   ]
  },
  {
   "cell_type": "markdown",
   "metadata": {},
   "source": [
    "Vidimo, da top 10 igralcev služi več kot četrtino vsega denarja v teniškem svetu. Druga desetka zasluži več kot polovico manj kot prva, skoki pa se nato postopno zmanjšujejo, pri čemer igralci med 90. in 100. mestom zaslužijo le še 7% skupnega zaslužka prvih 10 igralcev."
   ]
  },
  {
   "cell_type": "code",
   "execution_count": 14,
   "metadata": {
    "scrolled": true
   },
   "outputs": [
    {
     "data": {
      "text/plain": [
       "<Container object of 40 artists>"
      ]
     },
     "execution_count": 14,
     "metadata": {},
     "output_type": "execute_result"
    },
    {
     "data": {
      "image/png": "[encoded data removed]",
      "text/plain": [
       "<matplotlib.figure.Figure at 0x276c71455c0>"
      ]
     },
     "metadata": {},
     "output_type": "display_data"
    }
   ],
   "source": [
    "#sedaj poglejmo se globalni trend\n",
    "\n",
    "plot.bar(range(len(desetke)),list(desetke.values()))"
   ]
  },
  {
   "cell_type": "markdown",
   "metadata": {},
   "source": [
    "V kasnejših odsekih lestvice sicer prihaja do rahlih fluktuacij, a ne zgodi se nič nepričakovanega, saj nižje uvrščeni igralci služijo manj. Če bi služili vec, bi bili višje na lestvici."
   ]
  },
  {
   "cell_type": "code",
   "execution_count": 250,
   "metadata": {},
   "outputs": [
    {
     "data": {
      "text/plain": [
       "<matplotlib.axes._subplots.AxesSubplot at 0x2015cda8d30>"
      ]
     },
     "execution_count": 250,
     "metadata": {},
     "output_type": "execute_result"
    },
    {
     "data": {
      "image/png": "[encoded data removed]",
      "text/plain": [
       "<matplotlib.figure.Figure at 0x2015cd76a20>"
      ]
     },
     "metadata": {},
     "output_type": "display_data"
    }
   ],
   "source": [
    "vsi_podatki[vsi_podatki['T_career'] > 3].plot(x='T_career', y='Earn_career', kind='scatter',figsize = (6,8))"
   ]
  },
  {
   "cell_type": "markdown",
   "metadata": {},
   "source": [
    "Odvisnost zaslužkov od osvojenih turnirjev ni povsem linearna, saj različni turnirji prinesejo različno denarja, a v splosnem obstaja močna korelacija med tema dvema spremenljivkama, kar je povsem logicno."
   ]
  }
 ],
 "metadata": {
  "kernelspec": {
   "display_name": "Python 3",
   "language": "python",
   "name": "python3"
  },
  "language_info": {
   "codemirror_mode": {
    "name": "ipython",
    "version": 3
   },
   "file_extension": ".py",
   "mimetype": "text/x-python",
   "name": "python",
   "nbconvert_exporter": "python",
   "pygments_lexer": "ipython3",
   "version": "3.6.3"
  }
 },
 "nbformat": 4,
 "nbformat_minor": 2
}
